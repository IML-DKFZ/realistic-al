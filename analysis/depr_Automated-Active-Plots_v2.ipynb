{
 "cells": [
  {
   "cell_type": "code",
   "execution_count": 1,
   "id": "8eac0e56",
   "metadata": {},
   "outputs": [],
   "source": [
    "# %matplotlib notebook\n",
    "%matplotlib inline\n",
    "from ipynb_setup import *\n",
    "import sys\n",
    "import matplotlib.pyplot as plt \n",
    "import seaborn as sns\n",
    "import pandas as pd\n",
    "import matplotlib\n",
    "\n",
    "import os\n",
    "import re"
   ]
  },
  {
   "cell_type": "code",
   "execution_count": 2,
   "id": "e53f4ffc",
   "metadata": {},
   "outputs": [],
   "source": [
    "from utils.file_utils import get_experiment_df, get_experiment_configs_df\n",
    "from utils.path_utils import visuals_folder\n",
    "from plotlib.performance_plots import plot_standard_dev"
   ]
  },
  {
   "cell_type": "code",
   "execution_count": 3,
   "id": "71bf7615",
   "metadata": {},
   "outputs": [],
   "source": [
    "# Taken from: \n",
    "\n",
    "def export_legend(legend, filename=\"legend.png\"):\n",
    "    fig  = legend.figure\n",
    "    fig.canvas.draw()\n",
    "    bbox  = legend.get_window_extent().transformed(fig.dpi_scale_trans.inverted())\n",
    "    fig.savefig(filename, dpi=\"figure\", bbox_inches=bbox)\n",
    "    \n",
    "matplotlib.font_manager._rebuild()\n",
    "    \n"
   ]
  },
  {
   "cell_type": "code",
   "execution_count": 4,
   "id": "570188a5",
   "metadata": {
    "scrolled": false
   },
   "outputs": [],
   "source": [
    "# flist = matplotlib.font_manager.get_fontconfig_fonts()\n",
    "# names = [matplotlib.font_manager.FontProperties(fname=fname).get_name() for fname in flist]\n"
   ]
  },
  {
   "cell_type": "code",
   "execution_count": 5,
   "id": "14b1b73b",
   "metadata": {},
   "outputs": [],
   "source": [
    "sns.set_style(\"whitegrid\")"
   ]
  },
  {
   "cell_type": "code",
   "execution_count": 40,
   "id": "8b4c49ad",
   "metadata": {},
   "outputs": [],
   "source": [
    "# savepath = Path(\"/home/c817h/Documents/deep-active-plots\")\n",
    "savepath = Path(\"/home/c817h/Documents/deep-active-plots_v3\")\n",
    "# dataset = \"CIFAR-10-LT\"\n",
    "# dataset = \"MIO-TCD\"\n",
    "# dataset = \"ISIC-2019\"\n",
    "# dataset = \"CIFAR-10\"\n",
    "dataset = \"CIFAR-100\"\n",
    "folder = \"Final\"\n",
    "\n",
    "base_paths = {\n",
    "    \"Cluster\" : Path(\"/home/c817h/network/Cluster-Experiments/activelearning\"),\n",
    "    \"Final\" : Path(\"/mnt/drive_nvme2/logs_cluster/activelearning\"),\n",
    "    \"Prel\" : Path(\"/mnt/drive_nvme2/rsync_cluster/activelearning\"),\n",
    "}\n",
    "\n",
    "datasets = {\n",
    "    \"CIFAR-10\" : \"cifar10\",\n",
    "    \"CIFAR-100\" : \"cifar100\",\n",
    "    \"CIFAR-10-LT\" : \"cifar10_imb\",\n",
    "    \"MIO-TCD\" : \"miotcd\",\n",
    "    \"ISIC-2019\" : \"isic2019\"\n",
    "}\n",
    "\n",
    "\n",
    "\n",
    "settings = {\n",
    "    \"full\" : [\"low\", \"med\", \"high\"],\n",
    "}\n",
    "\n",
    "# if \"full\" in settings:\n",
    "#     for setting in settings[\"full\"]:\n",
    "#         settings[setting] = [setting]\n",
    "    \n",
    "settings.update({\n",
    "    \"low-bb\" : [\"low-batchbald\"],\n",
    "    \"low-bb-fulll\" : [\"low-batchbald\", \"low\"],\n",
    "    \"bblow\" : [\"low\"]\n",
    "})\n",
    "\n",
    "\n",
    "sub_datasets = {\n",
    "    \"CIFAR-10-LT\" : datasets[\"CIFAR-10\"],\n",
    "    \"ISIC-2019\" : \"isic19\"\n",
    "}\n",
    "\n",
    "full_models = {\n",
    "    \"CIFAR-10\" : {\n",
    "        \"Basic\" : \"basic_model-resnet_drop-0_aug-cifar_randaugmentMC_wd-0.0005_lr-0.1_optim-sgd_cosine\",\n",
    "        \"PT\" : None,\n",
    "    },\n",
    "    \"CIFAR-100\" : {\n",
    "        \"Basic\" :\"basic_model-resnet_drop-0_aug-cifar_randaugmentMC_wd-0.005_lr-0.1_optim-sgd_cosine\",\n",
    "        \"PT\" : None,\n",
    "    },\n",
    "    \"CIFAR-10-LT\" :{\n",
    "        \"Basic\" : \"basic_model-resnet_drop-0_aug-cifar_randaugmentMC_wd-0.0005_lr-0.1_optim-sgd_cosine_weighted-true\",\n",
    "        \"PT\" : None,\n",
    "    },\n",
    "    \"MIO-TCD\" : {\n",
    "        \"Basic\" : \"basic_model-resnet_drop-0_aug-imagenet_randaugMC_wd-5e-05_lr-0.1_optim-sgd_cosine_weighted-True_epochs-80\",\n",
    "        \"PT\" : None,\n",
    "    },\n",
    "    \"ISIC-2019\" : {\n",
    "        \"Basic\" : \"basic_model-resnet_drop-0_aug-isic_train_wd-0.005_lr-0.01_optim-sgd_cosine_weighted-True_epochs-200\",\n",
    "        \"PT\" : None\n",
    "    },\n",
    "}\n",
    "\n",
    "base_path = base_paths[folder]\n",
    "d_set = datasets[dataset]\n",
    "\n",
    "\n",
    "fill_set = d_set\n",
    "if dataset in sub_datasets:\n",
    "    fill_set = sub_datasets[dataset]\n",
    "\n",
    "    \n",
    "for setting in settings:\n",
    "#     print(settings[setting])\n",
    "    settings[setting] = [f\"active-{fill_set}_{exp}\" for exp in settings[setting]]\n",
    "\n"
   ]
  },
  {
   "cell_type": "code",
   "execution_count": 41,
   "id": "474c69c9",
   "metadata": {},
   "outputs": [
    {
     "name": "stdout",
     "output_type": "stream",
     "text": [
      "{'bblow': [PosixPath('/mnt/drive_nvme2/logs_cluster/activelearning/cifar100/active-cifar100_low')],\n",
      " 'full': [PosixPath('/mnt/drive_nvme2/logs_cluster/activelearning/cifar100/active-cifar100_low'),\n",
      "          PosixPath('/mnt/drive_nvme2/logs_cluster/activelearning/cifar100/active-cifar100_med'),\n",
      "          PosixPath('/mnt/drive_nvme2/logs_cluster/activelearning/cifar100/active-cifar100_high')],\n",
      " 'low-bb': [PosixPath('/mnt/drive_nvme2/logs_cluster/activelearning/cifar100/active-cifar100_low-batchbald')],\n",
      " 'low-bb-fulll': [PosixPath('/mnt/drive_nvme2/logs_cluster/activelearning/cifar100/active-cifar100_low-batchbald'),\n",
      "                  PosixPath('/mnt/drive_nvme2/logs_cluster/activelearning/cifar100/active-cifar100_low')]}\n",
      "{'Basic': PosixPath('/mnt/drive_nvme2/logs_cluster/activelearning/cifar100/full_data/basic_model-resnet_drop-0_aug-cifar_randaugmentMC_wd-0.005_lr-0.1_optim-sgd_cosine')}\n"
     ]
    }
   ],
   "source": [
    "setting_paths = {}\n",
    "\n",
    "for setting in settings:\n",
    "    setting_paths[setting] = [base_path / d_set / exp for exp in settings[setting]]\n",
    "    \n",
    "# print(dataset)\n",
    "full_paths = {}\n",
    "for model in full_models[dataset]:\n",
    "    if full_models[dataset][model] is not None:\n",
    "        full_paths[model] = base_path / d_set / \"full_data\" / full_models[dataset][model]\n",
    "\n",
    "from pprint import pprint  \n",
    "pprint(setting_paths)\n",
    "print(full_paths)"
   ]
  },
  {
   "cell_type": "code",
   "execution_count": 42,
   "id": "e6ded11d",
   "metadata": {},
   "outputs": [],
   "source": [
    "match_patterns = [\n",
    "    r\"basic_.*\",\n",
    "    r\"basic-pretrained_.*\",\n",
    "#     r\".*__wloss.*\"\n",
    "#     BB experiment\n",
    "#     r\".*bald.*\"\n",
    "#     r\".*random.*\"\n",
    "    r\"fixmatch_.*\",\n",
    "#     r\"fixmatch-pretrained_.*\",\n",
    "]\n",
    "\n",
    "filter_dict = {\n",
    "    \"standard\": [\n",
    "        \".*batchbald.*\"\n",
    "    ],\n",
    "    \"bb\" : [\n",
    "        \n",
    "    ]\n",
    "}\n",
    "# filter_patterns = [\n",
    "    \n",
    "# #     r\".*batchbald.*\"\n",
    "# #     \".*wd-0.01_.*\"\n",
    "# #     r\".*kcenter.*\",\n",
    "# #     r\".*variationratios.*\"\n",
    "# #     r\".*batchbald.*\"\n",
    "# #     r\".*basic-pretrained_.*\",\n",
    "# ]"
   ]
  },
  {
   "cell_type": "code",
   "execution_count": 43,
   "id": "4fd58ef9",
   "metadata": {},
   "outputs": [],
   "source": [
    "hue_name = \"Query Method\"\n",
    "\n",
    "hue_split = \"acq-\"\n",
    "\n",
    "style_name = \"PreTraining & Semi-Supervised\"\n",
    "style_fct = lambda x: \"PT: {}, Sem-SL: {}\".format(\n",
    "    \"pretrained_model\" in x.name,\n",
    "    \"fixmatch\" in x.name\n",
    ")\n",
    "\n",
    "unit_vals = None\n",
    "unit_name = \"Unit\"\n",
    "\n",
    "palette = {\n",
    "    'bald': 'tab:blue',\n",
    "    'kcentergreedy': 'tab:green',\n",
    "    'entropy': 'tab:orange',\n",
    "    'random': 'tab:red',\n",
    "    'batchbald' : 'tab:cyan'\n",
    "}\n",
    "\n",
    "# Sadly does not Work!\n",
    "# dashes = {\n",
    "#     'PT: False, Sem-SL: False' : '--',\n",
    "#     'PT: True, Sem-SL: False' : '-',\n",
    "#     'PT: False, Sem-SL: True' : ':',\n",
    "#     'PT: True, Sem-SL: True' : '-.',\n",
    "# }\n",
    "\n",
    "dashes = {\n",
    "    'PT: False, Sem-SL: False' : (4, 4),\n",
    "    'PT: True, Sem-SL: False' : (1, 0),\n",
    "    'PT: False, Sem-SL: True' : (1, 2),\n",
    "    'PT: True, Sem-SL: True' : (2, 1),\n",
    "}\n",
    "\n",
    "markers= True\n",
    "# no color\n",
    "# markers = {\n",
    "#     'PT: False, Sem-SL: False' : \"x\",\n",
    "#     'PT: True, Sem-SL: False' : \"+\",\n",
    "#     'PT: False, Sem-SL: True' : \"1\",\n",
    "#     'PT: True, Sem-SL: True' : \"2\",\n",
    "# }\n",
    "\n",
    "markers = {\n",
    "    'PT: False, Sem-SL: False' : \"v\",\n",
    "    'PT: True, Sem-SL: False' : \"o\",\n",
    "    'PT: False, Sem-SL: True' : \"D\",\n",
    "    'PT: True, Sem-SL: True' : \"X\",\n",
    "}\n",
    "\n",
    "err_kws = {\n",
    "    \"alpha\" : 0.3\n",
    "}"
   ]
  },
  {
   "cell_type": "code",
   "execution_count": 44,
   "id": "dcf0853f",
   "metadata": {},
   "outputs": [],
   "source": [
    "training_settings = {\n",
    "    \"all\" : ['PT: False, Sem-SL: False', 'PT: True, Sem-SL: False', 'PT: False, Sem-SL: True', 'PT: True, Sem-SL: True'],\n",
    "    \"basic\" : ['PT: False, Sem-SL: False'],\n",
    "    \"Self-SL\" : ['PT: True, Sem-SL: False'],\n",
    "    \"Sem-SL\" : ['PT: False, Sem-SL: True'],\n",
    "    \"Self-Sem-SL\" : ['PT: True, Sem-SL: True'],\n",
    "}"
   ]
  },
  {
   "cell_type": "code",
   "execution_count": 45,
   "id": "64b5185e",
   "metadata": {
    "scrolled": true
   },
   "outputs": [
    {
     "name": "stdout",
     "output_type": "stream",
     "text": [
      "Selecting Filter Pattern from standard\n",
      "Folders in Path: \n",
      " /mnt/drive_nvme2/logs_cluster/activelearning/cifar100/active-cifar100_low\n",
      "\n",
      "basic-pretrained_model-resnet_drop-0.5_aug-cifar_randaugment_acq-bald_ep-80_freeze-False_smallhead-False\n",
      "basic-pretrained_model-resnet_drop-0.5_aug-cifar_randaugment_acq-bald_ep-80_freeze-False_smallhead-False\n",
      "basic-pretrained_model-resnet_drop-0.5_aug-cifar_randaugment_acq-batchbald_ep-80_freeze-False_smallhead-False\n",
      "basic-pretrained_model-resnet_drop-0_aug-cifar_randaugment_acq-entropy_ep-80_freeze-False_smallhead-False\n",
      "basic-pretrained_model-resnet_drop-0_aug-cifar_randaugment_acq-entropy_ep-80_freeze-False_smallhead-False\n",
      "basic-pretrained_model-resnet_drop-0_aug-cifar_randaugment_acq-kcentergreedy_ep-80_freeze-False_smallhead-False\n",
      "basic-pretrained_model-resnet_drop-0_aug-cifar_randaugment_acq-kcentergreedy_ep-80_freeze-False_smallhead-False\n",
      "basic-pretrained_model-resnet_drop-0_aug-cifar_randaugment_acq-random_ep-80_freeze-False_smallhead-False\n",
      "basic-pretrained_model-resnet_drop-0_aug-cifar_randaugment_acq-random_ep-80_freeze-False_smallhead-False\n",
      "basic_model-resnet_drop-0.5_aug-cifar_randaugmentMC_acq-bald_ep-200\n",
      "basic_model-resnet_drop-0.5_aug-cifar_randaugmentMC_acq-bald_ep-200\n",
      "basic_model-resnet_drop-0_aug-cifar_randaugmentMC_acq-entropy_ep-200\n",
      "basic_model-resnet_drop-0_aug-cifar_randaugmentMC_acq-entropy_ep-200\n",
      "basic_model-resnet_drop-0_aug-cifar_randaugmentMC_acq-kcentergreedy_ep-200\n",
      "basic_model-resnet_drop-0_aug-cifar_randaugmentMC_acq-kcentergreedy_ep-200\n",
      "basic_model-resnet_drop-0_aug-cifar_randaugmentMC_acq-random_ep-200\n",
      "basic_model-resnet_drop-0_aug-cifar_randaugmentMC_acq-random_ep-200\n",
      "fixmatch_model-resnet_drop-0_aug-cifar_basic_acq-entropy_ep-200\n",
      "fixmatch_model-resnet_drop-0_aug-cifar_basic_acq-entropy_ep-200\n",
      "fixmatch_model-resnet_drop-0_aug-cifar_basic_acq-kcentergreedy_ep-200\n",
      "fixmatch_model-resnet_drop-0_aug-cifar_basic_acq-kcentergreedy_ep-200\n",
      "fixmatch_model-resnet_drop-0_aug-cifar_basic_acq-random_ep-200\n",
      "fixmatch_model-resnet_drop-0_aug-cifar_basic_acq-random_ep-200\n",
      "Loading Experiment: /mnt/drive_nvme2/logs_cluster/activelearning/cifar100/active-cifar100_low/basic-pretrained_model-resnet_drop-0.5_aug-cifar_randaugment_acq-bald_ep-80_freeze-False_smallhead-False\n",
      "Found num files: 3\n",
      "Loading Experiment: /mnt/drive_nvme2/logs_cluster/activelearning/cifar100/active-cifar100_low/basic-pretrained_model-resnet_drop-0.5_aug-cifar_randaugment_acq-bald_ep-80_freeze-False_smallhead-False\n",
      "Found num files: 3\n",
      "Loading Experiment: /mnt/drive_nvme2/logs_cluster/activelearning/cifar100/active-cifar100_low/basic-pretrained_model-resnet_drop-0_aug-cifar_randaugment_acq-entropy_ep-80_freeze-False_smallhead-False\n",
      "Found num files: 3\n",
      "Loading Experiment: /mnt/drive_nvme2/logs_cluster/activelearning/cifar100/active-cifar100_low/basic-pretrained_model-resnet_drop-0_aug-cifar_randaugment_acq-entropy_ep-80_freeze-False_smallhead-False\n",
      "Found num files: 3\n",
      "Loading Experiment: /mnt/drive_nvme2/logs_cluster/activelearning/cifar100/active-cifar100_low/basic-pretrained_model-resnet_drop-0_aug-cifar_randaugment_acq-kcentergreedy_ep-80_freeze-False_smallhead-False\n",
      "Found num files: 3\n",
      "Loading Experiment: /mnt/drive_nvme2/logs_cluster/activelearning/cifar100/active-cifar100_low/basic-pretrained_model-resnet_drop-0_aug-cifar_randaugment_acq-kcentergreedy_ep-80_freeze-False_smallhead-False\n",
      "Found num files: 3\n",
      "Loading Experiment: /mnt/drive_nvme2/logs_cluster/activelearning/cifar100/active-cifar100_low/basic-pretrained_model-resnet_drop-0_aug-cifar_randaugment_acq-random_ep-80_freeze-False_smallhead-False\n",
      "Found num files: 3\n",
      "Loading Experiment: /mnt/drive_nvme2/logs_cluster/activelearning/cifar100/active-cifar100_low/basic-pretrained_model-resnet_drop-0_aug-cifar_randaugment_acq-random_ep-80_freeze-False_smallhead-False\n",
      "Found num files: 3\n",
      "Loading Experiment: /mnt/drive_nvme2/logs_cluster/activelearning/cifar100/active-cifar100_low/basic_model-resnet_drop-0.5_aug-cifar_randaugmentMC_acq-bald_ep-200\n",
      "Found num files: 3\n",
      "Loading Experiment: /mnt/drive_nvme2/logs_cluster/activelearning/cifar100/active-cifar100_low/basic_model-resnet_drop-0.5_aug-cifar_randaugmentMC_acq-bald_ep-200\n",
      "Found num files: 3\n",
      "Loading Experiment: /mnt/drive_nvme2/logs_cluster/activelearning/cifar100/active-cifar100_low/basic_model-resnet_drop-0_aug-cifar_randaugmentMC_acq-entropy_ep-200\n",
      "Found num files: 3\n",
      "Loading Experiment: /mnt/drive_nvme2/logs_cluster/activelearning/cifar100/active-cifar100_low/basic_model-resnet_drop-0_aug-cifar_randaugmentMC_acq-entropy_ep-200\n",
      "Found num files: 3\n",
      "Loading Experiment: /mnt/drive_nvme2/logs_cluster/activelearning/cifar100/active-cifar100_low/basic_model-resnet_drop-0_aug-cifar_randaugmentMC_acq-kcentergreedy_ep-200\n",
      "Found num files: 3\n",
      "Loading Experiment: /mnt/drive_nvme2/logs_cluster/activelearning/cifar100/active-cifar100_low/basic_model-resnet_drop-0_aug-cifar_randaugmentMC_acq-kcentergreedy_ep-200\n",
      "Found num files: 3\n",
      "Loading Experiment: /mnt/drive_nvme2/logs_cluster/activelearning/cifar100/active-cifar100_low/basic_model-resnet_drop-0_aug-cifar_randaugmentMC_acq-random_ep-200\n",
      "Found num files: 3\n",
      "Loading Experiment: /mnt/drive_nvme2/logs_cluster/activelearning/cifar100/active-cifar100_low/basic_model-resnet_drop-0_aug-cifar_randaugmentMC_acq-random_ep-200\n",
      "Found num files: 3\n",
      "Loading Experiment: /mnt/drive_nvme2/logs_cluster/activelearning/cifar100/active-cifar100_low/fixmatch_model-resnet_drop-0_aug-cifar_basic_acq-entropy_ep-200\n",
      "Found num files: 3\n",
      "Loading Experiment: /mnt/drive_nvme2/logs_cluster/activelearning/cifar100/active-cifar100_low/fixmatch_model-resnet_drop-0_aug-cifar_basic_acq-entropy_ep-200\n",
      "Found num files: 3\n",
      "Loading Experiment: /mnt/drive_nvme2/logs_cluster/activelearning/cifar100/active-cifar100_low/fixmatch_model-resnet_drop-0_aug-cifar_basic_acq-kcentergreedy_ep-200\n",
      "Found num files: 3\n",
      "Loading Experiment: /mnt/drive_nvme2/logs_cluster/activelearning/cifar100/active-cifar100_low/fixmatch_model-resnet_drop-0_aug-cifar_basic_acq-kcentergreedy_ep-200\n",
      "Found num files: 3\n",
      "Loading Experiment: /mnt/drive_nvme2/logs_cluster/activelearning/cifar100/active-cifar100_low/fixmatch_model-resnet_drop-0_aug-cifar_basic_acq-random_ep-200\n",
      "Found num files: 3\n",
      "Loading Experiment: /mnt/drive_nvme2/logs_cluster/activelearning/cifar100/active-cifar100_low/fixmatch_model-resnet_drop-0_aug-cifar_basic_acq-random_ep-200\n",
      "Found num files: 3\n",
      "Folders in Path: \n",
      " /mnt/drive_nvme2/logs_cluster/activelearning/cifar100/active-cifar100_med\n",
      "\n",
      "basic-pretrained_model-resnet_drop-0.5_aug-cifar_randaugment_acq-bald_ep-80_freeze-False_smallhead-False\n",
      "basic-pretrained_model-resnet_drop-0.5_aug-cifar_randaugment_acq-bald_ep-80_freeze-False_smallhead-False\n",
      "basic-pretrained_model-resnet_drop-0_aug-cifar_randaugment_acq-entropy_ep-80_freeze-False_smallhead-False\n",
      "basic-pretrained_model-resnet_drop-0_aug-cifar_randaugment_acq-entropy_ep-80_freeze-False_smallhead-False\n",
      "basic-pretrained_model-resnet_drop-0_aug-cifar_randaugment_acq-kcentergreedy_ep-80_freeze-False_smallhead-False\n",
      "basic-pretrained_model-resnet_drop-0_aug-cifar_randaugment_acq-kcentergreedy_ep-80_freeze-False_smallhead-False\n",
      "basic-pretrained_model-resnet_drop-0_aug-cifar_randaugment_acq-random_ep-80_freeze-False_smallhead-False\n",
      "basic-pretrained_model-resnet_drop-0_aug-cifar_randaugment_acq-random_ep-80_freeze-False_smallhead-False\n",
      "basic_model-resnet_drop-0.5_aug-cifar_randaugmentMC_acq-bald_ep-200\n",
      "basic_model-resnet_drop-0.5_aug-cifar_randaugmentMC_acq-bald_ep-200\n",
      "basic_model-resnet_drop-0_aug-cifar_randaugmentMC_acq-entropy_ep-200\n",
      "basic_model-resnet_drop-0_aug-cifar_randaugmentMC_acq-entropy_ep-200\n",
      "basic_model-resnet_drop-0_aug-cifar_randaugmentMC_acq-kcentergreedy_ep-200\n",
      "basic_model-resnet_drop-0_aug-cifar_randaugmentMC_acq-kcentergreedy_ep-200\n",
      "basic_model-resnet_drop-0_aug-cifar_randaugmentMC_acq-random_ep-200\n",
      "basic_model-resnet_drop-0_aug-cifar_randaugmentMC_acq-random_ep-200\n",
      "fixmatch_model-resnet_drop-0_aug-cifar_basic_acq-entropy_ep-200\n",
      "fixmatch_model-resnet_drop-0_aug-cifar_basic_acq-entropy_ep-200\n",
      "fixmatch_model-resnet_drop-0_aug-cifar_basic_acq-kcentergreedy_ep-200\n",
      "fixmatch_model-resnet_drop-0_aug-cifar_basic_acq-kcentergreedy_ep-200\n",
      "fixmatch_model-resnet_drop-0_aug-cifar_basic_acq-random_ep-200\n",
      "fixmatch_model-resnet_drop-0_aug-cifar_basic_acq-random_ep-200\n",
      "Loading Experiment: /mnt/drive_nvme2/logs_cluster/activelearning/cifar100/active-cifar100_med/basic-pretrained_model-resnet_drop-0.5_aug-cifar_randaugment_acq-bald_ep-80_freeze-False_smallhead-False\n",
      "Found num files: 3\n",
      "Loading Experiment: /mnt/drive_nvme2/logs_cluster/activelearning/cifar100/active-cifar100_med/basic-pretrained_model-resnet_drop-0.5_aug-cifar_randaugment_acq-bald_ep-80_freeze-False_smallhead-False\n",
      "Found num files: 3\n",
      "Loading Experiment: /mnt/drive_nvme2/logs_cluster/activelearning/cifar100/active-cifar100_med/basic-pretrained_model-resnet_drop-0_aug-cifar_randaugment_acq-entropy_ep-80_freeze-False_smallhead-False\n",
      "Found num files: 3\n",
      "Loading Experiment: /mnt/drive_nvme2/logs_cluster/activelearning/cifar100/active-cifar100_med/basic-pretrained_model-resnet_drop-0_aug-cifar_randaugment_acq-entropy_ep-80_freeze-False_smallhead-False\n",
      "Found num files: 3\n",
      "Loading Experiment: /mnt/drive_nvme2/logs_cluster/activelearning/cifar100/active-cifar100_med/basic-pretrained_model-resnet_drop-0_aug-cifar_randaugment_acq-kcentergreedy_ep-80_freeze-False_smallhead-False\n",
      "Found num files: 3\n"
     ]
    },
    {
     "name": "stdout",
     "output_type": "stream",
     "text": [
      "Loading Experiment: /mnt/drive_nvme2/logs_cluster/activelearning/cifar100/active-cifar100_med/basic-pretrained_model-resnet_drop-0_aug-cifar_randaugment_acq-kcentergreedy_ep-80_freeze-False_smallhead-False\n",
      "Found num files: 3\n",
      "Loading Experiment: /mnt/drive_nvme2/logs_cluster/activelearning/cifar100/active-cifar100_med/basic-pretrained_model-resnet_drop-0_aug-cifar_randaugment_acq-random_ep-80_freeze-False_smallhead-False\n",
      "Found num files: 3\n",
      "Loading Experiment: /mnt/drive_nvme2/logs_cluster/activelearning/cifar100/active-cifar100_med/basic-pretrained_model-resnet_drop-0_aug-cifar_randaugment_acq-random_ep-80_freeze-False_smallhead-False\n",
      "Found num files: 3\n",
      "Loading Experiment: /mnt/drive_nvme2/logs_cluster/activelearning/cifar100/active-cifar100_med/basic_model-resnet_drop-0.5_aug-cifar_randaugmentMC_acq-bald_ep-200\n",
      "Found num files: 3\n",
      "Loading Experiment: /mnt/drive_nvme2/logs_cluster/activelearning/cifar100/active-cifar100_med/basic_model-resnet_drop-0.5_aug-cifar_randaugmentMC_acq-bald_ep-200\n",
      "Found num files: 3\n",
      "Loading Experiment: /mnt/drive_nvme2/logs_cluster/activelearning/cifar100/active-cifar100_med/basic_model-resnet_drop-0_aug-cifar_randaugmentMC_acq-entropy_ep-200\n",
      "Found num files: 3\n",
      "Loading Experiment: /mnt/drive_nvme2/logs_cluster/activelearning/cifar100/active-cifar100_med/basic_model-resnet_drop-0_aug-cifar_randaugmentMC_acq-entropy_ep-200\n",
      "Found num files: 3\n",
      "Loading Experiment: /mnt/drive_nvme2/logs_cluster/activelearning/cifar100/active-cifar100_med/basic_model-resnet_drop-0_aug-cifar_randaugmentMC_acq-kcentergreedy_ep-200\n",
      "Found num files: 3\n",
      "Loading Experiment: /mnt/drive_nvme2/logs_cluster/activelearning/cifar100/active-cifar100_med/basic_model-resnet_drop-0_aug-cifar_randaugmentMC_acq-kcentergreedy_ep-200\n",
      "Found num files: 3\n",
      "Loading Experiment: /mnt/drive_nvme2/logs_cluster/activelearning/cifar100/active-cifar100_med/basic_model-resnet_drop-0_aug-cifar_randaugmentMC_acq-random_ep-200\n",
      "Found num files: 3\n",
      "Loading Experiment: /mnt/drive_nvme2/logs_cluster/activelearning/cifar100/active-cifar100_med/basic_model-resnet_drop-0_aug-cifar_randaugmentMC_acq-random_ep-200\n",
      "Found num files: 3\n",
      "Loading Experiment: /mnt/drive_nvme2/logs_cluster/activelearning/cifar100/active-cifar100_med/fixmatch_model-resnet_drop-0_aug-cifar_basic_acq-entropy_ep-200\n",
      "Found num files: 3\n",
      "Loading Experiment: /mnt/drive_nvme2/logs_cluster/activelearning/cifar100/active-cifar100_med/fixmatch_model-resnet_drop-0_aug-cifar_basic_acq-entropy_ep-200\n",
      "Found num files: 3\n",
      "Loading Experiment: /mnt/drive_nvme2/logs_cluster/activelearning/cifar100/active-cifar100_med/fixmatch_model-resnet_drop-0_aug-cifar_basic_acq-kcentergreedy_ep-200\n",
      "Found num files: 3\n",
      "Loading Experiment: /mnt/drive_nvme2/logs_cluster/activelearning/cifar100/active-cifar100_med/fixmatch_model-resnet_drop-0_aug-cifar_basic_acq-kcentergreedy_ep-200\n",
      "Found num files: 3\n",
      "Loading Experiment: /mnt/drive_nvme2/logs_cluster/activelearning/cifar100/active-cifar100_med/fixmatch_model-resnet_drop-0_aug-cifar_basic_acq-random_ep-200\n",
      "Found num files: 3\n",
      "Loading Experiment: /mnt/drive_nvme2/logs_cluster/activelearning/cifar100/active-cifar100_med/fixmatch_model-resnet_drop-0_aug-cifar_basic_acq-random_ep-200\n",
      "Found num files: 3\n",
      "Folders in Path: \n",
      " /mnt/drive_nvme2/logs_cluster/activelearning/cifar100/active-cifar100_high\n",
      "\n",
      "basic-pretrained_model-resnet_drop-0.5_aug-cifar_randaugment_acq-bald_ep-80_freeze-False_smallhead-False\n",
      "basic-pretrained_model-resnet_drop-0.5_aug-cifar_randaugment_acq-bald_ep-80_freeze-False_smallhead-False\n",
      "basic-pretrained_model-resnet_drop-0_aug-cifar_randaugment_acq-entropy_ep-80_freeze-False_smallhead-False\n",
      "basic-pretrained_model-resnet_drop-0_aug-cifar_randaugment_acq-entropy_ep-80_freeze-False_smallhead-False\n",
      "basic-pretrained_model-resnet_drop-0_aug-cifar_randaugment_acq-kcentergreedy_ep-80_freeze-False_smallhead-False\n",
      "basic-pretrained_model-resnet_drop-0_aug-cifar_randaugment_acq-kcentergreedy_ep-80_freeze-False_smallhead-False\n",
      "basic-pretrained_model-resnet_drop-0_aug-cifar_randaugment_acq-random_ep-80_freeze-False_smallhead-False\n",
      "basic-pretrained_model-resnet_drop-0_aug-cifar_randaugment_acq-random_ep-80_freeze-False_smallhead-False\n",
      "basic_model-resnet_drop-0.5_aug-cifar_randaugmentMC_acq-bald_ep-200\n",
      "basic_model-resnet_drop-0.5_aug-cifar_randaugmentMC_acq-bald_ep-200\n",
      "basic_model-resnet_drop-0_aug-cifar_randaugmentMC_acq-entropy_ep-200\n",
      "basic_model-resnet_drop-0_aug-cifar_randaugmentMC_acq-entropy_ep-200\n",
      "basic_model-resnet_drop-0_aug-cifar_randaugmentMC_acq-kcentergreedy_ep-200\n",
      "basic_model-resnet_drop-0_aug-cifar_randaugmentMC_acq-kcentergreedy_ep-200\n",
      "basic_model-resnet_drop-0_aug-cifar_randaugmentMC_acq-random_ep-200\n",
      "basic_model-resnet_drop-0_aug-cifar_randaugmentMC_acq-random_ep-200\n",
      "Loading Experiment: /mnt/drive_nvme2/logs_cluster/activelearning/cifar100/active-cifar100_high/basic-pretrained_model-resnet_drop-0.5_aug-cifar_randaugment_acq-bald_ep-80_freeze-False_smallhead-False\n",
      "Found num files: 3\n",
      "Loading Experiment: /mnt/drive_nvme2/logs_cluster/activelearning/cifar100/active-cifar100_high/basic-pretrained_model-resnet_drop-0.5_aug-cifar_randaugment_acq-bald_ep-80_freeze-False_smallhead-False\n",
      "Found num files: 3\n",
      "Loading Experiment: /mnt/drive_nvme2/logs_cluster/activelearning/cifar100/active-cifar100_high/basic-pretrained_model-resnet_drop-0_aug-cifar_randaugment_acq-entropy_ep-80_freeze-False_smallhead-False\n",
      "Found num files: 3\n",
      "Loading Experiment: /mnt/drive_nvme2/logs_cluster/activelearning/cifar100/active-cifar100_high/basic-pretrained_model-resnet_drop-0_aug-cifar_randaugment_acq-entropy_ep-80_freeze-False_smallhead-False\n",
      "Found num files: 3\n",
      "Loading Experiment: /mnt/drive_nvme2/logs_cluster/activelearning/cifar100/active-cifar100_high/basic-pretrained_model-resnet_drop-0_aug-cifar_randaugment_acq-kcentergreedy_ep-80_freeze-False_smallhead-False\n",
      "Found num files: 3\n",
      "Loading Experiment: /mnt/drive_nvme2/logs_cluster/activelearning/cifar100/active-cifar100_high/basic-pretrained_model-resnet_drop-0_aug-cifar_randaugment_acq-kcentergreedy_ep-80_freeze-False_smallhead-False\n",
      "Found num files: 3\n",
      "Loading Experiment: /mnt/drive_nvme2/logs_cluster/activelearning/cifar100/active-cifar100_high/basic-pretrained_model-resnet_drop-0_aug-cifar_randaugment_acq-random_ep-80_freeze-False_smallhead-False\n",
      "Found num files: 3\n",
      "Loading Experiment: /mnt/drive_nvme2/logs_cluster/activelearning/cifar100/active-cifar100_high/basic-pretrained_model-resnet_drop-0_aug-cifar_randaugment_acq-random_ep-80_freeze-False_smallhead-False\n",
      "Found num files: 3\n",
      "Loading Experiment: /mnt/drive_nvme2/logs_cluster/activelearning/cifar100/active-cifar100_high/basic_model-resnet_drop-0.5_aug-cifar_randaugmentMC_acq-bald_ep-200\n",
      "Found num files: 3\n",
      "Loading Experiment: /mnt/drive_nvme2/logs_cluster/activelearning/cifar100/active-cifar100_high/basic_model-resnet_drop-0.5_aug-cifar_randaugmentMC_acq-bald_ep-200\n",
      "Found num files: 3\n",
      "Loading Experiment: /mnt/drive_nvme2/logs_cluster/activelearning/cifar100/active-cifar100_high/basic_model-resnet_drop-0_aug-cifar_randaugmentMC_acq-entropy_ep-200\n",
      "Found num files: 3\n",
      "Loading Experiment: /mnt/drive_nvme2/logs_cluster/activelearning/cifar100/active-cifar100_high/basic_model-resnet_drop-0_aug-cifar_randaugmentMC_acq-entropy_ep-200\n",
      "Found num files: 3\n",
      "Loading Experiment: /mnt/drive_nvme2/logs_cluster/activelearning/cifar100/active-cifar100_high/basic_model-resnet_drop-0_aug-cifar_randaugmentMC_acq-kcentergreedy_ep-200\n",
      "Found num files: 3\n",
      "Loading Experiment: /mnt/drive_nvme2/logs_cluster/activelearning/cifar100/active-cifar100_high/basic_model-resnet_drop-0_aug-cifar_randaugmentMC_acq-kcentergreedy_ep-200\n",
      "Found num files: 3\n",
      "Loading Experiment: /mnt/drive_nvme2/logs_cluster/activelearning/cifar100/active-cifar100_high/basic_model-resnet_drop-0_aug-cifar_randaugmentMC_acq-random_ep-200\n",
      "Found num files: 3\n",
      "Loading Experiment: /mnt/drive_nvme2/logs_cluster/activelearning/cifar100/active-cifar100_high/basic_model-resnet_drop-0_aug-cifar_randaugmentMC_acq-random_ep-200\n",
      "Found num files: 3\n",
      "Selecting Filter Pattern from bb\n",
      "Folders in Path: \n",
      " /mnt/drive_nvme2/logs_cluster/activelearning/cifar100/active-cifar100_low-batchbald\n",
      "\n",
      "basic-pretrained_model-resnet_drop-0.5_aug-cifar_randaugment_acq-bald_ep-80_freeze-False_smallhead-False\n",
      "basic-pretrained_model-resnet_drop-0.5_aug-cifar_randaugment_acq-bald_ep-80_freeze-False_smallhead-False\n",
      "basic-pretrained_model-resnet_drop-0.5_aug-cifar_randaugment_acq-batchbald_ep-80_freeze-False_smallhead-False\n",
      "basic-pretrained_model-resnet_drop-0.5_aug-cifar_randaugment_acq-batchbald_ep-80_freeze-False_smallhead-False\n",
      "basic-pretrained_model-resnet_drop-0.5_aug-cifar_randaugment_acq-entropy_ep-80_freeze-False_smallhead-False\n",
      "basic-pretrained_model-resnet_drop-0.5_aug-cifar_randaugment_acq-entropy_ep-80_freeze-False_smallhead-False\n",
      "basic-pretrained_model-resnet_drop-0.5_aug-cifar_randaugment_acq-kcentergreedy_ep-80_freeze-False_smallhead-False\n",
      "basic-pretrained_model-resnet_drop-0.5_aug-cifar_randaugment_acq-kcentergreedy_ep-80_freeze-False_smallhead-False\n",
      "basic-pretrained_model-resnet_drop-0.5_aug-cifar_randaugment_acq-random_ep-80_freeze-False_smallhead-False\n",
      "basic-pretrained_model-resnet_drop-0.5_aug-cifar_randaugment_acq-random_ep-80_freeze-False_smallhead-False\n",
      "Loading Experiment: /mnt/drive_nvme2/logs_cluster/activelearning/cifar100/active-cifar100_low-batchbald/basic-pretrained_model-resnet_drop-0.5_aug-cifar_randaugment_acq-bald_ep-80_freeze-False_smallhead-False\n",
      "Found num files: 3\n",
      "Loading Experiment: /mnt/drive_nvme2/logs_cluster/activelearning/cifar100/active-cifar100_low-batchbald/basic-pretrained_model-resnet_drop-0.5_aug-cifar_randaugment_acq-bald_ep-80_freeze-False_smallhead-False\n",
      "Found num files: 3\n",
      "Loading Experiment: /mnt/drive_nvme2/logs_cluster/activelearning/cifar100/active-cifar100_low-batchbald/basic-pretrained_model-resnet_drop-0.5_aug-cifar_randaugment_acq-batchbald_ep-80_freeze-False_smallhead-False\n",
      "Found num files: 3\n",
      "Loading Experiment: /mnt/drive_nvme2/logs_cluster/activelearning/cifar100/active-cifar100_low-batchbald/basic-pretrained_model-resnet_drop-0.5_aug-cifar_randaugment_acq-batchbald_ep-80_freeze-False_smallhead-False\n",
      "Found num files: 3\n",
      "Loading Experiment: /mnt/drive_nvme2/logs_cluster/activelearning/cifar100/active-cifar100_low-batchbald/basic-pretrained_model-resnet_drop-0.5_aug-cifar_randaugment_acq-entropy_ep-80_freeze-False_smallhead-False\n",
      "Found num files: 3\n",
      "Loading Experiment: /mnt/drive_nvme2/logs_cluster/activelearning/cifar100/active-cifar100_low-batchbald/basic-pretrained_model-resnet_drop-0.5_aug-cifar_randaugment_acq-entropy_ep-80_freeze-False_smallhead-False\n",
      "Found num files: 3\n",
      "Loading Experiment: /mnt/drive_nvme2/logs_cluster/activelearning/cifar100/active-cifar100_low-batchbald/basic-pretrained_model-resnet_drop-0.5_aug-cifar_randaugment_acq-kcentergreedy_ep-80_freeze-False_smallhead-False\n",
      "Found num files: 3\n",
      "Loading Experiment: /mnt/drive_nvme2/logs_cluster/activelearning/cifar100/active-cifar100_low-batchbald/basic-pretrained_model-resnet_drop-0.5_aug-cifar_randaugment_acq-kcentergreedy_ep-80_freeze-False_smallhead-False\n",
      "Found num files: 3\n",
      "Loading Experiment: /mnt/drive_nvme2/logs_cluster/activelearning/cifar100/active-cifar100_low-batchbald/basic-pretrained_model-resnet_drop-0.5_aug-cifar_randaugment_acq-random_ep-80_freeze-False_smallhead-False\n",
      "Found num files: 3\n",
      "Loading Experiment: /mnt/drive_nvme2/logs_cluster/activelearning/cifar100/active-cifar100_low-batchbald/basic-pretrained_model-resnet_drop-0.5_aug-cifar_randaugment_acq-random_ep-80_freeze-False_smallhead-False\n",
      "Found num files: 3\n",
      "Selecting Filter Pattern from bb\n",
      "Folders in Path: \n",
      " /mnt/drive_nvme2/logs_cluster/activelearning/cifar100/active-cifar100_low-batchbald\n",
      "\n",
      "basic-pretrained_model-resnet_drop-0.5_aug-cifar_randaugment_acq-bald_ep-80_freeze-False_smallhead-False\n",
      "basic-pretrained_model-resnet_drop-0.5_aug-cifar_randaugment_acq-bald_ep-80_freeze-False_smallhead-False\n",
      "basic-pretrained_model-resnet_drop-0.5_aug-cifar_randaugment_acq-batchbald_ep-80_freeze-False_smallhead-False\n",
      "basic-pretrained_model-resnet_drop-0.5_aug-cifar_randaugment_acq-batchbald_ep-80_freeze-False_smallhead-False\n",
      "basic-pretrained_model-resnet_drop-0.5_aug-cifar_randaugment_acq-entropy_ep-80_freeze-False_smallhead-False\n",
      "basic-pretrained_model-resnet_drop-0.5_aug-cifar_randaugment_acq-entropy_ep-80_freeze-False_smallhead-False\n",
      "basic-pretrained_model-resnet_drop-0.5_aug-cifar_randaugment_acq-kcentergreedy_ep-80_freeze-False_smallhead-False\n",
      "basic-pretrained_model-resnet_drop-0.5_aug-cifar_randaugment_acq-kcentergreedy_ep-80_freeze-False_smallhead-False\n",
      "basic-pretrained_model-resnet_drop-0.5_aug-cifar_randaugment_acq-random_ep-80_freeze-False_smallhead-False\n",
      "basic-pretrained_model-resnet_drop-0.5_aug-cifar_randaugment_acq-random_ep-80_freeze-False_smallhead-False\n",
      "Loading Experiment: /mnt/drive_nvme2/logs_cluster/activelearning/cifar100/active-cifar100_low-batchbald/basic-pretrained_model-resnet_drop-0.5_aug-cifar_randaugment_acq-bald_ep-80_freeze-False_smallhead-False\n",
      "Found num files: 3\n",
      "Loading Experiment: /mnt/drive_nvme2/logs_cluster/activelearning/cifar100/active-cifar100_low-batchbald/basic-pretrained_model-resnet_drop-0.5_aug-cifar_randaugment_acq-bald_ep-80_freeze-False_smallhead-False\n",
      "Found num files: 3\n",
      "Loading Experiment: /mnt/drive_nvme2/logs_cluster/activelearning/cifar100/active-cifar100_low-batchbald/basic-pretrained_model-resnet_drop-0.5_aug-cifar_randaugment_acq-batchbald_ep-80_freeze-False_smallhead-False\n",
      "Found num files: 3\n",
      "Loading Experiment: /mnt/drive_nvme2/logs_cluster/activelearning/cifar100/active-cifar100_low-batchbald/basic-pretrained_model-resnet_drop-0.5_aug-cifar_randaugment_acq-batchbald_ep-80_freeze-False_smallhead-False\n",
      "Found num files: 3\n",
      "Loading Experiment: /mnt/drive_nvme2/logs_cluster/activelearning/cifar100/active-cifar100_low-batchbald/basic-pretrained_model-resnet_drop-0.5_aug-cifar_randaugment_acq-entropy_ep-80_freeze-False_smallhead-False\n",
      "Found num files: 3\n",
      "Loading Experiment: /mnt/drive_nvme2/logs_cluster/activelearning/cifar100/active-cifar100_low-batchbald/basic-pretrained_model-resnet_drop-0.5_aug-cifar_randaugment_acq-entropy_ep-80_freeze-False_smallhead-False\n",
      "Found num files: 3\n",
      "Loading Experiment: /mnt/drive_nvme2/logs_cluster/activelearning/cifar100/active-cifar100_low-batchbald/basic-pretrained_model-resnet_drop-0.5_aug-cifar_randaugment_acq-kcentergreedy_ep-80_freeze-False_smallhead-False\n",
      "Found num files: 3\n",
      "Loading Experiment: /mnt/drive_nvme2/logs_cluster/activelearning/cifar100/active-cifar100_low-batchbald/basic-pretrained_model-resnet_drop-0.5_aug-cifar_randaugment_acq-kcentergreedy_ep-80_freeze-False_smallhead-False\n",
      "Found num files: 3\n",
      "Loading Experiment: /mnt/drive_nvme2/logs_cluster/activelearning/cifar100/active-cifar100_low-batchbald/basic-pretrained_model-resnet_drop-0.5_aug-cifar_randaugment_acq-random_ep-80_freeze-False_smallhead-False\n",
      "Found num files: 3\n",
      "Loading Experiment: /mnt/drive_nvme2/logs_cluster/activelearning/cifar100/active-cifar100_low-batchbald/basic-pretrained_model-resnet_drop-0.5_aug-cifar_randaugment_acq-random_ep-80_freeze-False_smallhead-False\n",
      "Found num files: 3\n",
      "Folders in Path: \n",
      " /mnt/drive_nvme2/logs_cluster/activelearning/cifar100/active-cifar100_low\n",
      "\n",
      "basic-pretrained_model-resnet_drop-0.5_aug-cifar_randaugment_acq-bald_ep-80_freeze-False_smallhead-False\n",
      "basic-pretrained_model-resnet_drop-0.5_aug-cifar_randaugment_acq-bald_ep-80_freeze-False_smallhead-False\n",
      "basic-pretrained_model-resnet_drop-0.5_aug-cifar_randaugment_acq-batchbald_ep-80_freeze-False_smallhead-False\n",
      "basic-pretrained_model-resnet_drop-0.5_aug-cifar_randaugment_acq-batchbald_ep-80_freeze-False_smallhead-False\n",
      "basic-pretrained_model-resnet_drop-0_aug-cifar_randaugment_acq-entropy_ep-80_freeze-False_smallhead-False\n"
     ]
    },
    {
     "name": "stdout",
     "output_type": "stream",
     "text": [
      "basic-pretrained_model-resnet_drop-0_aug-cifar_randaugment_acq-entropy_ep-80_freeze-False_smallhead-False\n",
      "basic-pretrained_model-resnet_drop-0_aug-cifar_randaugment_acq-kcentergreedy_ep-80_freeze-False_smallhead-False\n",
      "basic-pretrained_model-resnet_drop-0_aug-cifar_randaugment_acq-kcentergreedy_ep-80_freeze-False_smallhead-False\n",
      "basic-pretrained_model-resnet_drop-0_aug-cifar_randaugment_acq-random_ep-80_freeze-False_smallhead-False\n",
      "basic-pretrained_model-resnet_drop-0_aug-cifar_randaugment_acq-random_ep-80_freeze-False_smallhead-False\n",
      "basic_model-resnet_drop-0.5_aug-cifar_randaugmentMC_acq-bald_ep-200\n",
      "basic_model-resnet_drop-0.5_aug-cifar_randaugmentMC_acq-bald_ep-200\n",
      "basic_model-resnet_drop-0_aug-cifar_randaugmentMC_acq-entropy_ep-200\n",
      "basic_model-resnet_drop-0_aug-cifar_randaugmentMC_acq-entropy_ep-200\n",
      "basic_model-resnet_drop-0_aug-cifar_randaugmentMC_acq-kcentergreedy_ep-200\n",
      "basic_model-resnet_drop-0_aug-cifar_randaugmentMC_acq-kcentergreedy_ep-200\n",
      "basic_model-resnet_drop-0_aug-cifar_randaugmentMC_acq-random_ep-200\n",
      "basic_model-resnet_drop-0_aug-cifar_randaugmentMC_acq-random_ep-200\n",
      "fixmatch_model-resnet_drop-0_aug-cifar_basic_acq-entropy_ep-200\n",
      "fixmatch_model-resnet_drop-0_aug-cifar_basic_acq-entropy_ep-200\n",
      "fixmatch_model-resnet_drop-0_aug-cifar_basic_acq-kcentergreedy_ep-200\n",
      "fixmatch_model-resnet_drop-0_aug-cifar_basic_acq-kcentergreedy_ep-200\n",
      "fixmatch_model-resnet_drop-0_aug-cifar_basic_acq-random_ep-200\n",
      "fixmatch_model-resnet_drop-0_aug-cifar_basic_acq-random_ep-200\n",
      "Loading Experiment: /mnt/drive_nvme2/logs_cluster/activelearning/cifar100/active-cifar100_low/basic-pretrained_model-resnet_drop-0.5_aug-cifar_randaugment_acq-bald_ep-80_freeze-False_smallhead-False\n",
      "Found num files: 3\n",
      "Loading Experiment: /mnt/drive_nvme2/logs_cluster/activelearning/cifar100/active-cifar100_low/basic-pretrained_model-resnet_drop-0.5_aug-cifar_randaugment_acq-bald_ep-80_freeze-False_smallhead-False\n",
      "Found num files: 3\n",
      "Loading Experiment: /mnt/drive_nvme2/logs_cluster/activelearning/cifar100/active-cifar100_low/basic-pretrained_model-resnet_drop-0.5_aug-cifar_randaugment_acq-batchbald_ep-80_freeze-False_smallhead-False\n",
      "Found num files: 3\n",
      "Loading Experiment: /mnt/drive_nvme2/logs_cluster/activelearning/cifar100/active-cifar100_low/basic-pretrained_model-resnet_drop-0.5_aug-cifar_randaugment_acq-batchbald_ep-80_freeze-False_smallhead-False\n",
      "Found num files: 3\n",
      "Loading Experiment: /mnt/drive_nvme2/logs_cluster/activelearning/cifar100/active-cifar100_low/basic-pretrained_model-resnet_drop-0_aug-cifar_randaugment_acq-entropy_ep-80_freeze-False_smallhead-False\n",
      "Found num files: 3\n",
      "Loading Experiment: /mnt/drive_nvme2/logs_cluster/activelearning/cifar100/active-cifar100_low/basic-pretrained_model-resnet_drop-0_aug-cifar_randaugment_acq-entropy_ep-80_freeze-False_smallhead-False\n",
      "Found num files: 3\n",
      "Loading Experiment: /mnt/drive_nvme2/logs_cluster/activelearning/cifar100/active-cifar100_low/basic-pretrained_model-resnet_drop-0_aug-cifar_randaugment_acq-kcentergreedy_ep-80_freeze-False_smallhead-False\n",
      "Found num files: 3\n",
      "Loading Experiment: /mnt/drive_nvme2/logs_cluster/activelearning/cifar100/active-cifar100_low/basic-pretrained_model-resnet_drop-0_aug-cifar_randaugment_acq-kcentergreedy_ep-80_freeze-False_smallhead-False\n",
      "Found num files: 3\n",
      "Loading Experiment: /mnt/drive_nvme2/logs_cluster/activelearning/cifar100/active-cifar100_low/basic-pretrained_model-resnet_drop-0_aug-cifar_randaugment_acq-random_ep-80_freeze-False_smallhead-False\n",
      "Found num files: 3\n",
      "Loading Experiment: /mnt/drive_nvme2/logs_cluster/activelearning/cifar100/active-cifar100_low/basic-pretrained_model-resnet_drop-0_aug-cifar_randaugment_acq-random_ep-80_freeze-False_smallhead-False\n",
      "Found num files: 3\n",
      "Loading Experiment: /mnt/drive_nvme2/logs_cluster/activelearning/cifar100/active-cifar100_low/basic_model-resnet_drop-0.5_aug-cifar_randaugmentMC_acq-bald_ep-200\n",
      "Found num files: 3\n",
      "Loading Experiment: /mnt/drive_nvme2/logs_cluster/activelearning/cifar100/active-cifar100_low/basic_model-resnet_drop-0.5_aug-cifar_randaugmentMC_acq-bald_ep-200\n",
      "Found num files: 3\n",
      "Loading Experiment: /mnt/drive_nvme2/logs_cluster/activelearning/cifar100/active-cifar100_low/basic_model-resnet_drop-0_aug-cifar_randaugmentMC_acq-entropy_ep-200\n",
      "Found num files: 3\n",
      "Loading Experiment: /mnt/drive_nvme2/logs_cluster/activelearning/cifar100/active-cifar100_low/basic_model-resnet_drop-0_aug-cifar_randaugmentMC_acq-entropy_ep-200\n",
      "Found num files: 3\n",
      "Loading Experiment: /mnt/drive_nvme2/logs_cluster/activelearning/cifar100/active-cifar100_low/basic_model-resnet_drop-0_aug-cifar_randaugmentMC_acq-kcentergreedy_ep-200\n",
      "Found num files: 3\n",
      "Loading Experiment: /mnt/drive_nvme2/logs_cluster/activelearning/cifar100/active-cifar100_low/basic_model-resnet_drop-0_aug-cifar_randaugmentMC_acq-kcentergreedy_ep-200\n",
      "Found num files: 3\n",
      "Loading Experiment: /mnt/drive_nvme2/logs_cluster/activelearning/cifar100/active-cifar100_low/basic_model-resnet_drop-0_aug-cifar_randaugmentMC_acq-random_ep-200\n",
      "Found num files: 3\n",
      "Loading Experiment: /mnt/drive_nvme2/logs_cluster/activelearning/cifar100/active-cifar100_low/basic_model-resnet_drop-0_aug-cifar_randaugmentMC_acq-random_ep-200\n",
      "Found num files: 3\n",
      "Loading Experiment: /mnt/drive_nvme2/logs_cluster/activelearning/cifar100/active-cifar100_low/fixmatch_model-resnet_drop-0_aug-cifar_basic_acq-entropy_ep-200\n",
      "Found num files: 3\n",
      "Loading Experiment: /mnt/drive_nvme2/logs_cluster/activelearning/cifar100/active-cifar100_low/fixmatch_model-resnet_drop-0_aug-cifar_basic_acq-entropy_ep-200\n",
      "Found num files: 3\n",
      "Loading Experiment: /mnt/drive_nvme2/logs_cluster/activelearning/cifar100/active-cifar100_low/fixmatch_model-resnet_drop-0_aug-cifar_basic_acq-kcentergreedy_ep-200\n",
      "Found num files: 3\n",
      "Loading Experiment: /mnt/drive_nvme2/logs_cluster/activelearning/cifar100/active-cifar100_low/fixmatch_model-resnet_drop-0_aug-cifar_basic_acq-kcentergreedy_ep-200\n",
      "Found num files: 3\n",
      "Loading Experiment: /mnt/drive_nvme2/logs_cluster/activelearning/cifar100/active-cifar100_low/fixmatch_model-resnet_drop-0_aug-cifar_basic_acq-random_ep-200\n",
      "Found num files: 3\n",
      "Loading Experiment: /mnt/drive_nvme2/logs_cluster/activelearning/cifar100/active-cifar100_low/fixmatch_model-resnet_drop-0_aug-cifar_basic_acq-random_ep-200\n",
      "Found num files: 3\n",
      "Selecting Filter Pattern from bb\n",
      "Folders in Path: \n",
      " /mnt/drive_nvme2/logs_cluster/activelearning/cifar100/active-cifar100_low\n",
      "\n",
      "basic-pretrained_model-resnet_drop-0.5_aug-cifar_randaugment_acq-bald_ep-80_freeze-False_smallhead-False\n",
      "basic-pretrained_model-resnet_drop-0.5_aug-cifar_randaugment_acq-bald_ep-80_freeze-False_smallhead-False\n",
      "basic-pretrained_model-resnet_drop-0.5_aug-cifar_randaugment_acq-batchbald_ep-80_freeze-False_smallhead-False\n",
      "basic-pretrained_model-resnet_drop-0.5_aug-cifar_randaugment_acq-batchbald_ep-80_freeze-False_smallhead-False\n",
      "basic-pretrained_model-resnet_drop-0_aug-cifar_randaugment_acq-entropy_ep-80_freeze-False_smallhead-False\n",
      "basic-pretrained_model-resnet_drop-0_aug-cifar_randaugment_acq-entropy_ep-80_freeze-False_smallhead-False\n",
      "basic-pretrained_model-resnet_drop-0_aug-cifar_randaugment_acq-kcentergreedy_ep-80_freeze-False_smallhead-False\n",
      "basic-pretrained_model-resnet_drop-0_aug-cifar_randaugment_acq-kcentergreedy_ep-80_freeze-False_smallhead-False\n",
      "basic-pretrained_model-resnet_drop-0_aug-cifar_randaugment_acq-random_ep-80_freeze-False_smallhead-False\n",
      "basic-pretrained_model-resnet_drop-0_aug-cifar_randaugment_acq-random_ep-80_freeze-False_smallhead-False\n",
      "basic_model-resnet_drop-0.5_aug-cifar_randaugmentMC_acq-bald_ep-200\n",
      "basic_model-resnet_drop-0.5_aug-cifar_randaugmentMC_acq-bald_ep-200\n",
      "basic_model-resnet_drop-0_aug-cifar_randaugmentMC_acq-entropy_ep-200\n",
      "basic_model-resnet_drop-0_aug-cifar_randaugmentMC_acq-entropy_ep-200\n",
      "basic_model-resnet_drop-0_aug-cifar_randaugmentMC_acq-kcentergreedy_ep-200\n",
      "basic_model-resnet_drop-0_aug-cifar_randaugmentMC_acq-kcentergreedy_ep-200\n",
      "basic_model-resnet_drop-0_aug-cifar_randaugmentMC_acq-random_ep-200\n",
      "basic_model-resnet_drop-0_aug-cifar_randaugmentMC_acq-random_ep-200\n",
      "fixmatch_model-resnet_drop-0_aug-cifar_basic_acq-entropy_ep-200\n",
      "fixmatch_model-resnet_drop-0_aug-cifar_basic_acq-entropy_ep-200\n",
      "fixmatch_model-resnet_drop-0_aug-cifar_basic_acq-kcentergreedy_ep-200\n",
      "fixmatch_model-resnet_drop-0_aug-cifar_basic_acq-kcentergreedy_ep-200\n",
      "fixmatch_model-resnet_drop-0_aug-cifar_basic_acq-random_ep-200\n",
      "fixmatch_model-resnet_drop-0_aug-cifar_basic_acq-random_ep-200\n",
      "Loading Experiment: /mnt/drive_nvme2/logs_cluster/activelearning/cifar100/active-cifar100_low/basic-pretrained_model-resnet_drop-0.5_aug-cifar_randaugment_acq-bald_ep-80_freeze-False_smallhead-False\n",
      "Found num files: 3\n",
      "Loading Experiment: /mnt/drive_nvme2/logs_cluster/activelearning/cifar100/active-cifar100_low/basic-pretrained_model-resnet_drop-0.5_aug-cifar_randaugment_acq-bald_ep-80_freeze-False_smallhead-False\n",
      "Found num files: 3\n",
      "Loading Experiment: /mnt/drive_nvme2/logs_cluster/activelearning/cifar100/active-cifar100_low/basic-pretrained_model-resnet_drop-0.5_aug-cifar_randaugment_acq-batchbald_ep-80_freeze-False_smallhead-False\n",
      "Found num files: 3\n"
     ]
    },
    {
     "name": "stdout",
     "output_type": "stream",
     "text": [
      "Loading Experiment: /mnt/drive_nvme2/logs_cluster/activelearning/cifar100/active-cifar100_low/basic-pretrained_model-resnet_drop-0.5_aug-cifar_randaugment_acq-batchbald_ep-80_freeze-False_smallhead-False\n",
      "Found num files: 3\n",
      "Loading Experiment: /mnt/drive_nvme2/logs_cluster/activelearning/cifar100/active-cifar100_low/basic-pretrained_model-resnet_drop-0_aug-cifar_randaugment_acq-entropy_ep-80_freeze-False_smallhead-False\n",
      "Found num files: 3\n",
      "Loading Experiment: /mnt/drive_nvme2/logs_cluster/activelearning/cifar100/active-cifar100_low/basic-pretrained_model-resnet_drop-0_aug-cifar_randaugment_acq-entropy_ep-80_freeze-False_smallhead-False\n",
      "Found num files: 3\n",
      "Loading Experiment: /mnt/drive_nvme2/logs_cluster/activelearning/cifar100/active-cifar100_low/basic-pretrained_model-resnet_drop-0_aug-cifar_randaugment_acq-kcentergreedy_ep-80_freeze-False_smallhead-False\n",
      "Found num files: 3\n",
      "Loading Experiment: /mnt/drive_nvme2/logs_cluster/activelearning/cifar100/active-cifar100_low/basic-pretrained_model-resnet_drop-0_aug-cifar_randaugment_acq-kcentergreedy_ep-80_freeze-False_smallhead-False\n",
      "Found num files: 3\n",
      "Loading Experiment: /mnt/drive_nvme2/logs_cluster/activelearning/cifar100/active-cifar100_low/basic-pretrained_model-resnet_drop-0_aug-cifar_randaugment_acq-random_ep-80_freeze-False_smallhead-False\n",
      "Found num files: 3\n",
      "Loading Experiment: /mnt/drive_nvme2/logs_cluster/activelearning/cifar100/active-cifar100_low/basic-pretrained_model-resnet_drop-0_aug-cifar_randaugment_acq-random_ep-80_freeze-False_smallhead-False\n",
      "Found num files: 3\n",
      "Loading Experiment: /mnt/drive_nvme2/logs_cluster/activelearning/cifar100/active-cifar100_low/basic_model-resnet_drop-0.5_aug-cifar_randaugmentMC_acq-bald_ep-200\n",
      "Found num files: 3\n",
      "Loading Experiment: /mnt/drive_nvme2/logs_cluster/activelearning/cifar100/active-cifar100_low/basic_model-resnet_drop-0.5_aug-cifar_randaugmentMC_acq-bald_ep-200\n",
      "Found num files: 3\n",
      "Loading Experiment: /mnt/drive_nvme2/logs_cluster/activelearning/cifar100/active-cifar100_low/basic_model-resnet_drop-0_aug-cifar_randaugmentMC_acq-entropy_ep-200\n",
      "Found num files: 3\n",
      "Loading Experiment: /mnt/drive_nvme2/logs_cluster/activelearning/cifar100/active-cifar100_low/basic_model-resnet_drop-0_aug-cifar_randaugmentMC_acq-entropy_ep-200\n",
      "Found num files: 3\n",
      "Loading Experiment: /mnt/drive_nvme2/logs_cluster/activelearning/cifar100/active-cifar100_low/basic_model-resnet_drop-0_aug-cifar_randaugmentMC_acq-kcentergreedy_ep-200\n",
      "Found num files: 3\n",
      "Loading Experiment: /mnt/drive_nvme2/logs_cluster/activelearning/cifar100/active-cifar100_low/basic_model-resnet_drop-0_aug-cifar_randaugmentMC_acq-kcentergreedy_ep-200\n",
      "Found num files: 3\n",
      "Loading Experiment: /mnt/drive_nvme2/logs_cluster/activelearning/cifar100/active-cifar100_low/basic_model-resnet_drop-0_aug-cifar_randaugmentMC_acq-random_ep-200\n",
      "Found num files: 3\n",
      "Loading Experiment: /mnt/drive_nvme2/logs_cluster/activelearning/cifar100/active-cifar100_low/basic_model-resnet_drop-0_aug-cifar_randaugmentMC_acq-random_ep-200\n",
      "Found num files: 3\n",
      "Loading Experiment: /mnt/drive_nvme2/logs_cluster/activelearning/cifar100/active-cifar100_low/fixmatch_model-resnet_drop-0_aug-cifar_basic_acq-entropy_ep-200\n",
      "Found num files: 3\n",
      "Loading Experiment: /mnt/drive_nvme2/logs_cluster/activelearning/cifar100/active-cifar100_low/fixmatch_model-resnet_drop-0_aug-cifar_basic_acq-entropy_ep-200\n",
      "Found num files: 3\n",
      "Loading Experiment: /mnt/drive_nvme2/logs_cluster/activelearning/cifar100/active-cifar100_low/fixmatch_model-resnet_drop-0_aug-cifar_basic_acq-kcentergreedy_ep-200\n",
      "Found num files: 3\n",
      "Loading Experiment: /mnt/drive_nvme2/logs_cluster/activelearning/cifar100/active-cifar100_low/fixmatch_model-resnet_drop-0_aug-cifar_basic_acq-kcentergreedy_ep-200\n",
      "Found num files: 3\n",
      "Loading Experiment: /mnt/drive_nvme2/logs_cluster/activelearning/cifar100/active-cifar100_low/fixmatch_model-resnet_drop-0_aug-cifar_basic_acq-random_ep-200\n",
      "Found num files: 3\n",
      "Loading Experiment: /mnt/drive_nvme2/logs_cluster/activelearning/cifar100/active-cifar100_low/fixmatch_model-resnet_drop-0_aug-cifar_basic_acq-random_ep-200\n",
      "Found num files: 3\n"
     ]
    }
   ],
   "source": [
    "setting_dfs = dict()\n",
    "for setting in setting_paths:\n",
    "    base_paths = setting_paths[setting]\n",
    "    if not all(base_path.is_dir() for base_path in base_paths):\n",
    "        print(f\"Skipping Setting: {setting}\\nPath is not existent {base_path}\")\n",
    "        continue\n",
    "    key_filter = \"standard\"\n",
    "    for key in filter_dict:\n",
    "        if key in setting:\n",
    "            key_filter = key\n",
    "    if key is None:\n",
    "        key_filter = \"standard\"\n",
    "    print(\"Selecting Filter Pattern from {}\".format(key_filter))\n",
    "    filter_patterns = filter_dict[key_filter]\n",
    "    dfs = []\n",
    "#     print(base_paths)\n",
    "\n",
    "\n",
    "    for base_path in base_paths:\n",
    "        paths = [path for path in base_path.iterdir() if path.is_dir()]\n",
    "        paths.sort()\n",
    "        print(\"Folders in Path: \\n {}\\n\".format(base_path))\n",
    "\n",
    "\n",
    "        experiment_paths = []\n",
    "        for path in paths:\n",
    "    #         print(path)\n",
    "            for pattern in match_patterns:\n",
    "    #             print(path.name)\n",
    "                out = re.match(pattern, str(path.name))\n",
    "                if out is not None:\n",
    "                    print(path.name)\n",
    "                    skip = False\n",
    "                    for filter_pattern in filter_patterns:\n",
    "                        if re.match(filter_pattern, str(path)) is not None:\n",
    "                            skip=True\n",
    "                    if skip:\n",
    "                        continue\n",
    "\n",
    "                    print(path.name)\n",
    "                    experiment_paths.append(path)\n",
    "                    continue\n",
    "\n",
    "\n",
    "\n",
    "        hue_names = [path.name.split(hue_split)[1].split('_')[0] for path in experiment_paths]#.split('_')[0] for path in paths]\n",
    "        style_vals = [style_fct(path) for path in experiment_paths]\n",
    "\n",
    "\n",
    "        df = []\n",
    "        for i, (base_dir) in enumerate(experiment_paths):\n",
    "            base_dir = Path(base_dir)\n",
    "            if hue_names is not None:\n",
    "                hue_val = hue_names[i]\n",
    "            else:\n",
    "                hue_val = None\n",
    "            if style_vals is not None:\n",
    "                style_val = style_vals[i]\n",
    "            else:\n",
    "                style_val = None\n",
    "            if unit_vals is not None:\n",
    "                unit_val = unit_vals[i]\n",
    "            else:\n",
    "                unit_val = None\n",
    "\n",
    "            experiment_frame = get_experiment_df(base_dir, name=hue_val)\n",
    "            # experiment_frame[hue_name] = hue_val\n",
    "            if experiment_frame is None:\n",
    "                continue\n",
    "\n",
    "            # Add new metric values\n",
    "            experiment_add = get_experiment_df(base_dir, pattern=\"test_metrics.csv\", name=hue_val)\n",
    "    #         print(experiment_add)\n",
    "            if experiment_add is not None:\n",
    "    #             print(experiment_frame)\n",
    "    #             print(experiment_add)\n",
    "                del experiment_add[\"Name\"]\n",
    "                del experiment_add[\"version\"]\n",
    "                experiment_frame = experiment_frame.join(experiment_add)\n",
    "    #             print(experiment_frame)\n",
    "\n",
    "\n",
    "            experiment_frame[hue_name] = hue_val\n",
    "            experiment_frame[style_name] = style_val\n",
    "            experiment_frame[unit_name] = unit_val\n",
    "            df.append(experiment_frame)\n",
    "        df = pd.concat(df)\n",
    "        df.reset_index(inplace=True)\n",
    "\n",
    "        dfs.append(df)\n",
    "        setting_dfs[setting] = dfs"
   ]
  },
  {
   "cell_type": "code",
   "execution_count": 46,
   "id": "9dc2df05",
   "metadata": {},
   "outputs": [],
   "source": [
    "full_data_dict = {}\n",
    "\n",
    "for key, path in full_paths.items():\n",
    "    test_acc_df = pd.read_csv(path/\"test_acc.csv\", index_col=0)\n",
    "    full_data_dict[key] = dict()\n",
    "    full_data_dict[key][\"test_acc\"]=dict()\n",
    "    full_data_dict[key][\"test_acc\"][\"mean\"] = float(test_acc_df[\"Mean\"])\n",
    "    full_data_dict[key][\"test_acc\"][\"std\"] =  float(test_acc_df[\"STD\"])\n",
    "    \n",
    "    if (path/\"test_w_acc.csv\").is_file():\n",
    "        mean_recall_df = pd.read_csv(path/\"test_w_acc.csv\", index_col=0)\n",
    "        full_data_dict[key][\"test/w_acc\"]=dict()\n",
    "        full_data_dict[key][\"test/w_acc\"][\"mean\"] = float(mean_recall_df[\"Mean\"])\n",
    "        full_data_dict[key][\"test/w_acc\"][\"std\"] =  float(mean_recall_df[\"STD\"])"
   ]
  },
  {
   "cell_type": "markdown",
   "id": "db0d491d",
   "metadata": {},
   "source": [
    "## Better Plotting\n",
    "1. Take Legend out of plots: https://stackoverflow.com/questions/4534480/get-legend-as-a-separate-picture-in-matplotlib\n",
    "2. Use Gridspec to reduce space in between Plots: https://stackoverflow.com/questions/41071947/how-to-remove-the-space-between-subplots-in-matplotlib-pyplot\n",
    "3. Make frame thicker: https://stackoverflow.com/questions/1639463/matplotlib-border-width\n",
    "4. Increase DPI:\n",
    "5. Change Font Sizes: https://www.statology.org/change-font-size-matplotlib/\n",
    "\n",
    "\n",
    "Interesting: https://github.com/garrettj403/SciencePlots \n",
    "\n",
    "Cheat Sheet: https://matplotlib.org/cheatsheets/ \n",
    "\n",
    "\n",
    "#### TODO:\n",
    "-[ ] CVPR:Format\n",
    "   - Text Font: Times New Roman\n",
    "   - Somehow changing fonts in Linux is not very nice --> move plotting to local machine for next project!\n",
    "            - 1 1/2 hours wasted!\n",
    "            - local machine: worked within 30 secs.\n",
    "            \n",
    "            "
   ]
  },
  {
   "cell_type": "code",
   "execution_count": 47,
   "id": "f5c14b5d",
   "metadata": {
    "scrolled": true
   },
   "outputs": [
    {
     "name": "stdout",
     "output_type": "stream",
     "text": [
      "Filename:plot-full_train-all.pdf\n",
      "Filename:plot-full_train-basic.pdf\n",
      "Filename:plot-full_train-Self-SL.pdf\n",
      "Filename:plot-full_train-Sem-SL.pdf\n",
      "Filename:plot-full_train-Self-Sem-SL.pdf\n",
      "Filename:plot-low-bb_train-all.pdf\n",
      "Filename:plot-low-bb_train-basic.pdf\n",
      "Filename:plot-low-bb_train-Self-SL.pdf\n",
      "Filename:plot-low-bb_train-Sem-SL.pdf\n",
      "Filename:plot-low-bb_train-Self-Sem-SL.pdf\n",
      "Filename:plot-low-bb-fulll_train-all.pdf\n",
      "Filename:plot-low-bb-fulll_train-basic.pdf\n",
      "Filename:plot-low-bb-fulll_train-Self-SL.pdf\n",
      "Filename:plot-low-bb-fulll_train-Sem-SL.pdf\n",
      "Filename:plot-low-bb-fulll_train-Self-Sem-SL.pdf\n",
      "Filename:plot-bblow_train-all.pdf\n",
      "Filename:plot-bblow_train-basic.pdf\n",
      "Filename:plot-bblow_train-Self-SL.pdf\n",
      "Filename:plot-bblow_train-Sem-SL.pdf\n",
      "Filename:plot-bblow_train-Self-Sem-SL.pdf\n"
     ]
    },
    {
     "name": "stderr",
     "output_type": "stream",
     "text": [
      "<ipython-input-47-470f3312e420>:39: RuntimeWarning: More than 20 figures have been opened. Figures created through the pyplot interface (`matplotlib.pyplot.figure`) are retained until explicitly closed and may consume too much memory. (To control this warning, see the rcParam `figure.max_open_warning`).\n",
      "  fig, axs = plt.subplots(ncols=num_cols,\n"
     ]
    },
    {
     "name": "stdout",
     "output_type": "stream",
     "text": [
      "Filename:plot-full_train-all.pdf\n",
      "Filename:plot-full_train-basic.pdf\n",
      "Filename:plot-full_train-Self-SL.pdf\n",
      "Filename:plot-full_train-Sem-SL.pdf\n",
      "Filename:plot-full_train-Self-Sem-SL.pdf\n",
      "Filename:plot-low-bb_train-all.pdf\n",
      "Filename:plot-low-bb_train-basic.pdf\n",
      "Filename:plot-low-bb_train-Self-SL.pdf\n",
      "Filename:plot-low-bb_train-Sem-SL.pdf\n",
      "Filename:plot-low-bb_train-Self-Sem-SL.pdf\n",
      "Filename:plot-low-bb-fulll_train-all.pdf\n",
      "Filename:plot-low-bb-fulll_train-basic.pdf\n",
      "Filename:plot-low-bb-fulll_train-Self-SL.pdf\n",
      "Filename:plot-low-bb-fulll_train-Sem-SL.pdf\n",
      "Filename:plot-low-bb-fulll_train-Self-Sem-SL.pdf\n",
      "Filename:plot-bblow_train-all.pdf\n",
      "Filename:plot-bblow_train-basic.pdf\n",
      "Filename:plot-bblow_train-Self-SL.pdf\n",
      "Filename:plot-bblow_train-Sem-SL.pdf\n",
      "Filename:plot-bblow_train-Self-Sem-SL.pdf\n",
      "Filename:plot-full_train-all.pdf\n",
      "Filename:plot-full_train-basic.pdf\n",
      "Filename:plot-full_train-Self-SL.pdf\n",
      "Filename:plot-full_train-Sem-SL.pdf\n",
      "Filename:plot-full_train-Self-Sem-SL.pdf\n",
      "Filename:plot-low-bb_train-all.pdf\n",
      "Filename:plot-low-bb_train-basic.pdf\n",
      "Filename:plot-low-bb_train-Self-SL.pdf\n",
      "Filename:plot-low-bb_train-Sem-SL.pdf\n",
      "Filename:plot-low-bb_train-Self-Sem-SL.pdf\n",
      "Filename:plot-low-bb-fulll_train-all.pdf\n",
      "Filename:plot-low-bb-fulll_train-basic.pdf\n",
      "Filename:plot-low-bb-fulll_train-Self-SL.pdf\n",
      "Filename:plot-low-bb-fulll_train-Sem-SL.pdf\n",
      "Filename:plot-low-bb-fulll_train-Self-Sem-SL.pdf\n",
      "Filename:plot-bblow_train-all.pdf\n",
      "Filename:plot-bblow_train-basic.pdf\n",
      "Filename:plot-bblow_train-Self-SL.pdf\n",
      "Filename:plot-bblow_train-Sem-SL.pdf\n",
      "Filename:plot-bblow_train-Self-Sem-SL.pdf\n",
      "Filename:plot-full_train-all_yshared-True_bound-False.pdf\n",
      "Filename:plot-full_train-basic_yshared-True_bound-False.pdf\n",
      "Filename:plot-full_train-Self-SL_yshared-True_bound-False.pdf\n",
      "Filename:plot-full_train-Sem-SL_yshared-True_bound-False.pdf\n",
      "Filename:plot-full_train-Self-Sem-SL_yshared-True_bound-False.pdf\n",
      "Filename:plot-low-bb_train-all_yshared-True_bound-False.pdf\n",
      "Filename:plot-low-bb_train-basic_yshared-True_bound-False.pdf\n",
      "Filename:plot-low-bb_train-Self-SL_yshared-True_bound-False.pdf\n",
      "Filename:plot-low-bb_train-Sem-SL_yshared-True_bound-False.pdf\n",
      "Filename:plot-low-bb_train-Self-Sem-SL_yshared-True_bound-False.pdf\n",
      "Filename:plot-low-bb-fulll_train-all_yshared-True_bound-False.pdf\n",
      "Filename:plot-low-bb-fulll_train-basic_yshared-True_bound-False.pdf\n",
      "Filename:plot-low-bb-fulll_train-Self-SL_yshared-True_bound-False.pdf\n",
      "Filename:plot-low-bb-fulll_train-Sem-SL_yshared-True_bound-False.pdf\n",
      "Filename:plot-low-bb-fulll_train-Self-Sem-SL_yshared-True_bound-False.pdf\n",
      "Filename:plot-bblow_train-all_yshared-True_bound-False.pdf\n",
      "Filename:plot-bblow_train-basic_yshared-True_bound-False.pdf\n",
      "Filename:plot-bblow_train-Self-SL_yshared-True_bound-False.pdf\n",
      "Filename:plot-bblow_train-Sem-SL_yshared-True_bound-False.pdf\n",
      "Filename:plot-bblow_train-Self-Sem-SL_yshared-True_bound-False.pdf\n",
      "Filename:plot-full_train-all_yshared-False_bound-True.pdf\n",
      "Filename:plot-full_train-basic_yshared-False_bound-True.pdf\n",
      "Filename:plot-full_train-Self-SL_yshared-False_bound-True.pdf\n",
      "Filename:plot-full_train-Sem-SL_yshared-False_bound-True.pdf\n",
      "Filename:plot-full_train-Self-Sem-SL_yshared-False_bound-True.pdf\n",
      "Filename:plot-low-bb_train-all_yshared-False_bound-True.pdf\n",
      "Filename:plot-low-bb_train-basic_yshared-False_bound-True.pdf\n",
      "Filename:plot-low-bb_train-Self-SL_yshared-False_bound-True.pdf\n",
      "Filename:plot-low-bb_train-Sem-SL_yshared-False_bound-True.pdf\n",
      "Filename:plot-low-bb_train-Self-Sem-SL_yshared-False_bound-True.pdf\n",
      "Filename:plot-low-bb-fulll_train-all_yshared-False_bound-True.pdf\n",
      "Filename:plot-low-bb-fulll_train-basic_yshared-False_bound-True.pdf\n",
      "Filename:plot-low-bb-fulll_train-Self-SL_yshared-False_bound-True.pdf\n",
      "Filename:plot-low-bb-fulll_train-Sem-SL_yshared-False_bound-True.pdf\n",
      "Filename:plot-low-bb-fulll_train-Self-Sem-SL_yshared-False_bound-True.pdf\n",
      "Filename:plot-bblow_train-all_yshared-False_bound-True.pdf\n",
      "Filename:plot-bblow_train-basic_yshared-False_bound-True.pdf\n",
      "Filename:plot-bblow_train-Self-SL_yshared-False_bound-True.pdf\n",
      "Filename:plot-bblow_train-Sem-SL_yshared-False_bound-True.pdf\n",
      "Filename:plot-bblow_train-Self-Sem-SL_yshared-False_bound-True.pdf\n",
      "Filename:plot-full_train-all_yshared-False_bound-False.pdf\n",
      "Filename:plot-full_train-basic_yshared-False_bound-False.pdf\n",
      "Filename:plot-full_train-Self-SL_yshared-False_bound-False.pdf\n",
      "Filename:plot-full_train-Sem-SL_yshared-False_bound-False.pdf\n",
      "Filename:plot-full_train-Self-Sem-SL_yshared-False_bound-False.pdf\n",
      "Filename:plot-low-bb_train-all_yshared-False_bound-False.pdf\n",
      "Filename:plot-low-bb_train-basic_yshared-False_bound-False.pdf\n",
      "Filename:plot-low-bb_train-Self-SL_yshared-False_bound-False.pdf\n",
      "Filename:plot-low-bb_train-Sem-SL_yshared-False_bound-False.pdf\n",
      "Filename:plot-low-bb_train-Self-Sem-SL_yshared-False_bound-False.pdf\n",
      "Filename:plot-low-bb-fulll_train-all_yshared-False_bound-False.pdf\n",
      "Filename:plot-low-bb-fulll_train-basic_yshared-False_bound-False.pdf\n",
      "Filename:plot-low-bb-fulll_train-Self-SL_yshared-False_bound-False.pdf\n",
      "Filename:plot-low-bb-fulll_train-Sem-SL_yshared-False_bound-False.pdf\n",
      "Filename:plot-low-bb-fulll_train-Self-Sem-SL_yshared-False_bound-False.pdf\n",
      "Filename:plot-bblow_train-all_yshared-False_bound-False.pdf\n",
      "Filename:plot-bblow_train-basic_yshared-False_bound-False.pdf\n",
      "Filename:plot-bblow_train-Self-SL_yshared-False_bound-False.pdf\n",
      "Filename:plot-bblow_train-Sem-SL_yshared-False_bound-False.pdf\n",
      "Filename:plot-bblow_train-Self-Sem-SL_yshared-False_bound-False.pdf\n"
     ]
    },
    {
     "data": {
      "text/plain": [
       "<Figure size 864x432 with 0 Axes>"
      ]
     },
     "metadata": {},
     "output_type": "display_data"
    },
    {
     "data": {
      "text/plain": [
       "<Figure size 864x432 with 0 Axes>"
      ]
     },
     "metadata": {},
     "output_type": "display_data"
    },
    {
     "data": {
      "text/plain": [
       "<Figure size 864x432 with 0 Axes>"
      ]
     },
     "metadata": {},
     "output_type": "display_data"
    },
    {
     "data": {
      "text/plain": [
       "<Figure size 864x432 with 0 Axes>"
      ]
     },
     "metadata": {},
     "output_type": "display_data"
    },
    {
     "data": {
      "text/plain": [
       "<Figure size 864x432 with 0 Axes>"
      ]
     },
     "metadata": {},
     "output_type": "display_data"
    },
    {
     "data": {
      "text/plain": [
       "<Figure size 288x432 with 0 Axes>"
      ]
     },
     "metadata": {},
     "output_type": "display_data"
    },
    {
     "data": {
      "text/plain": [
       "<Figure size 288x432 with 0 Axes>"
      ]
     },
     "metadata": {},
     "output_type": "display_data"
    },
    {
     "data": {
      "text/plain": [
       "<Figure size 288x432 with 0 Axes>"
      ]
     },
     "metadata": {},
     "output_type": "display_data"
    },
    {
     "data": {
      "text/plain": [
       "<Figure size 288x432 with 0 Axes>"
      ]
     },
     "metadata": {},
     "output_type": "display_data"
    },
    {
     "data": {
      "text/plain": [
       "<Figure size 288x432 with 0 Axes>"
      ]
     },
     "metadata": {},
     "output_type": "display_data"
    },
    {
     "data": {
      "text/plain": [
       "<Figure size 576x432 with 0 Axes>"
      ]
     },
     "metadata": {},
     "output_type": "display_data"
    },
    {
     "data": {
      "text/plain": [
       "<Figure size 576x432 with 0 Axes>"
      ]
     },
     "metadata": {},
     "output_type": "display_data"
    },
    {
     "data": {
      "text/plain": [
       "<Figure size 576x432 with 0 Axes>"
      ]
     },
     "metadata": {},
     "output_type": "display_data"
    },
    {
     "data": {
      "text/plain": [
       "<Figure size 576x432 with 0 Axes>"
      ]
     },
     "metadata": {},
     "output_type": "display_data"
    },
    {
     "data": {
      "text/plain": [
       "<Figure size 576x432 with 0 Axes>"
      ]
     },
     "metadata": {},
     "output_type": "display_data"
    },
    {
     "data": {
      "text/plain": [
       "<Figure size 288x432 with 0 Axes>"
      ]
     },
     "metadata": {},
     "output_type": "display_data"
    },
    {
     "data": {
      "text/plain": [
       "<Figure size 288x432 with 0 Axes>"
      ]
     },
     "metadata": {},
     "output_type": "display_data"
    },
    {
     "data": {
      "text/plain": [
       "<Figure size 288x432 with 0 Axes>"
      ]
     },
     "metadata": {},
     "output_type": "display_data"
    },
    {
     "data": {
      "text/plain": [
       "<Figure size 288x432 with 0 Axes>"
      ]
     },
     "metadata": {},
     "output_type": "display_data"
    },
    {
     "data": {
      "text/plain": [
       "<Figure size 288x432 with 0 Axes>"
      ]
     },
     "metadata": {},
     "output_type": "display_data"
    },
    {
     "data": {
      "text/plain": [
       "<Figure size 864x432 with 0 Axes>"
      ]
     },
     "metadata": {},
     "output_type": "display_data"
    },
    {
     "data": {
      "text/plain": [
       "<Figure size 864x432 with 0 Axes>"
      ]
     },
     "metadata": {},
     "output_type": "display_data"
    },
    {
     "data": {
      "text/plain": [
       "<Figure size 864x432 with 0 Axes>"
      ]
     },
     "metadata": {},
     "output_type": "display_data"
    },
    {
     "data": {
      "text/plain": [
       "<Figure size 864x432 with 0 Axes>"
      ]
     },
     "metadata": {},
     "output_type": "display_data"
    },
    {
     "data": {
      "text/plain": [
       "<Figure size 864x432 with 0 Axes>"
      ]
     },
     "metadata": {},
     "output_type": "display_data"
    },
    {
     "data": {
      "text/plain": [
       "<Figure size 288x432 with 0 Axes>"
      ]
     },
     "metadata": {},
     "output_type": "display_data"
    },
    {
     "data": {
      "text/plain": [
       "<Figure size 288x432 with 0 Axes>"
      ]
     },
     "metadata": {},
     "output_type": "display_data"
    },
    {
     "data": {
      "text/plain": [
       "<Figure size 288x432 with 0 Axes>"
      ]
     },
     "metadata": {},
     "output_type": "display_data"
    },
    {
     "data": {
      "text/plain": [
       "<Figure size 288x432 with 0 Axes>"
      ]
     },
     "metadata": {},
     "output_type": "display_data"
    },
    {
     "data": {
      "text/plain": [
       "<Figure size 288x432 with 0 Axes>"
      ]
     },
     "metadata": {},
     "output_type": "display_data"
    },
    {
     "data": {
      "text/plain": [
       "<Figure size 576x432 with 0 Axes>"
      ]
     },
     "metadata": {},
     "output_type": "display_data"
    },
    {
     "data": {
      "text/plain": [
       "<Figure size 576x432 with 0 Axes>"
      ]
     },
     "metadata": {},
     "output_type": "display_data"
    },
    {
     "data": {
      "text/plain": [
       "<Figure size 576x432 with 0 Axes>"
      ]
     },
     "metadata": {},
     "output_type": "display_data"
    },
    {
     "data": {
      "text/plain": [
       "<Figure size 576x432 with 0 Axes>"
      ]
     },
     "metadata": {},
     "output_type": "display_data"
    },
    {
     "data": {
      "text/plain": [
       "<Figure size 576x432 with 0 Axes>"
      ]
     },
     "metadata": {},
     "output_type": "display_data"
    },
    {
     "data": {
      "text/plain": [
       "<Figure size 288x432 with 0 Axes>"
      ]
     },
     "metadata": {},
     "output_type": "display_data"
    },
    {
     "data": {
      "text/plain": [
       "<Figure size 288x432 with 0 Axes>"
      ]
     },
     "metadata": {},
     "output_type": "display_data"
    },
    {
     "data": {
      "text/plain": [
       "<Figure size 288x432 with 0 Axes>"
      ]
     },
     "metadata": {},
     "output_type": "display_data"
    },
    {
     "data": {
      "text/plain": [
       "<Figure size 288x432 with 0 Axes>"
      ]
     },
     "metadata": {},
     "output_type": "display_data"
    },
    {
     "data": {
      "text/plain": [
       "<Figure size 288x432 with 0 Axes>"
      ]
     },
     "metadata": {},
     "output_type": "display_data"
    },
    {
     "data": {
      "text/plain": [
       "<Figure size 864x432 with 0 Axes>"
      ]
     },
     "metadata": {},
     "output_type": "display_data"
    },
    {
     "data": {
      "text/plain": [
       "<Figure size 864x432 with 0 Axes>"
      ]
     },
     "metadata": {},
     "output_type": "display_data"
    },
    {
     "data": {
      "text/plain": [
       "<Figure size 864x432 with 0 Axes>"
      ]
     },
     "metadata": {},
     "output_type": "display_data"
    },
    {
     "data": {
      "text/plain": [
       "<Figure size 864x432 with 0 Axes>"
      ]
     },
     "metadata": {},
     "output_type": "display_data"
    },
    {
     "data": {
      "text/plain": [
       "<Figure size 864x432 with 0 Axes>"
      ]
     },
     "metadata": {},
     "output_type": "display_data"
    },
    {
     "data": {
      "text/plain": [
       "<Figure size 288x432 with 0 Axes>"
      ]
     },
     "metadata": {},
     "output_type": "display_data"
    },
    {
     "data": {
      "text/plain": [
       "<Figure size 288x432 with 0 Axes>"
      ]
     },
     "metadata": {},
     "output_type": "display_data"
    },
    {
     "data": {
      "text/plain": [
       "<Figure size 288x432 with 0 Axes>"
      ]
     },
     "metadata": {},
     "output_type": "display_data"
    },
    {
     "data": {
      "text/plain": [
       "<Figure size 288x432 with 0 Axes>"
      ]
     },
     "metadata": {},
     "output_type": "display_data"
    },
    {
     "data": {
      "text/plain": [
       "<Figure size 288x432 with 0 Axes>"
      ]
     },
     "metadata": {},
     "output_type": "display_data"
    },
    {
     "data": {
      "text/plain": [
       "<Figure size 576x432 with 0 Axes>"
      ]
     },
     "metadata": {},
     "output_type": "display_data"
    },
    {
     "data": {
      "text/plain": [
       "<Figure size 576x432 with 0 Axes>"
      ]
     },
     "metadata": {},
     "output_type": "display_data"
    },
    {
     "data": {
      "text/plain": [
       "<Figure size 576x432 with 0 Axes>"
      ]
     },
     "metadata": {},
     "output_type": "display_data"
    },
    {
     "data": {
      "text/plain": [
       "<Figure size 576x432 with 0 Axes>"
      ]
     },
     "metadata": {},
     "output_type": "display_data"
    },
    {
     "data": {
      "text/plain": [
       "<Figure size 576x432 with 0 Axes>"
      ]
     },
     "metadata": {},
     "output_type": "display_data"
    },
    {
     "data": {
      "text/plain": [
       "<Figure size 288x432 with 0 Axes>"
      ]
     },
     "metadata": {},
     "output_type": "display_data"
    },
    {
     "data": {
      "text/plain": [
       "<Figure size 288x432 with 0 Axes>"
      ]
     },
     "metadata": {},
     "output_type": "display_data"
    },
    {
     "data": {
      "text/plain": [
       "<Figure size 288x432 with 0 Axes>"
      ]
     },
     "metadata": {},
     "output_type": "display_data"
    },
    {
     "data": {
      "text/plain": [
       "<Figure size 288x432 with 0 Axes>"
      ]
     },
     "metadata": {},
     "output_type": "display_data"
    },
    {
     "data": {
      "text/plain": [
       "<Figure size 288x432 with 0 Axes>"
      ]
     },
     "metadata": {},
     "output_type": "display_data"
    },
    {
     "data": {
      "text/plain": [
       "<Figure size 864x432 with 0 Axes>"
      ]
     },
     "metadata": {},
     "output_type": "display_data"
    },
    {
     "data": {
      "text/plain": [
       "<Figure size 864x432 with 0 Axes>"
      ]
     },
     "metadata": {},
     "output_type": "display_data"
    },
    {
     "data": {
      "text/plain": [
       "<Figure size 864x432 with 0 Axes>"
      ]
     },
     "metadata": {},
     "output_type": "display_data"
    },
    {
     "data": {
      "text/plain": [
       "<Figure size 864x432 with 0 Axes>"
      ]
     },
     "metadata": {},
     "output_type": "display_data"
    },
    {
     "data": {
      "text/plain": [
       "<Figure size 864x432 with 0 Axes>"
      ]
     },
     "metadata": {},
     "output_type": "display_data"
    },
    {
     "data": {
      "text/plain": [
       "<Figure size 288x432 with 0 Axes>"
      ]
     },
     "metadata": {},
     "output_type": "display_data"
    },
    {
     "data": {
      "text/plain": [
       "<Figure size 288x432 with 0 Axes>"
      ]
     },
     "metadata": {},
     "output_type": "display_data"
    },
    {
     "data": {
      "text/plain": [
       "<Figure size 288x432 with 0 Axes>"
      ]
     },
     "metadata": {},
     "output_type": "display_data"
    },
    {
     "data": {
      "text/plain": [
       "<Figure size 288x432 with 0 Axes>"
      ]
     },
     "metadata": {},
     "output_type": "display_data"
    },
    {
     "data": {
      "text/plain": [
       "<Figure size 288x432 with 0 Axes>"
      ]
     },
     "metadata": {},
     "output_type": "display_data"
    },
    {
     "data": {
      "text/plain": [
       "<Figure size 576x432 with 0 Axes>"
      ]
     },
     "metadata": {},
     "output_type": "display_data"
    },
    {
     "data": {
      "text/plain": [
       "<Figure size 576x432 with 0 Axes>"
      ]
     },
     "metadata": {},
     "output_type": "display_data"
    },
    {
     "data": {
      "text/plain": [
       "<Figure size 576x432 with 0 Axes>"
      ]
     },
     "metadata": {},
     "output_type": "display_data"
    },
    {
     "data": {
      "text/plain": [
       "<Figure size 576x432 with 0 Axes>"
      ]
     },
     "metadata": {},
     "output_type": "display_data"
    },
    {
     "data": {
      "text/plain": [
       "<Figure size 576x432 with 0 Axes>"
      ]
     },
     "metadata": {},
     "output_type": "display_data"
    },
    {
     "data": {
      "text/plain": [
       "<Figure size 288x432 with 0 Axes>"
      ]
     },
     "metadata": {},
     "output_type": "display_data"
    },
    {
     "data": {
      "text/plain": [
       "<Figure size 288x432 with 0 Axes>"
      ]
     },
     "metadata": {},
     "output_type": "display_data"
    },
    {
     "data": {
      "text/plain": [
       "<Figure size 288x432 with 0 Axes>"
      ]
     },
     "metadata": {},
     "output_type": "display_data"
    },
    {
     "data": {
      "text/plain": [
       "<Figure size 288x432 with 0 Axes>"
      ]
     },
     "metadata": {},
     "output_type": "display_data"
    },
    {
     "data": {
      "text/plain": [
       "<Figure size 288x432 with 0 Axes>"
      ]
     },
     "metadata": {},
     "output_type": "display_data"
    },
    {
     "data": {
      "text/plain": [
       "<Figure size 864x432 with 0 Axes>"
      ]
     },
     "metadata": {},
     "output_type": "display_data"
    },
    {
     "data": {
      "text/plain": [
       "<Figure size 864x432 with 0 Axes>"
      ]
     },
     "metadata": {},
     "output_type": "display_data"
    },
    {
     "data": {
      "text/plain": [
       "<Figure size 864x432 with 0 Axes>"
      ]
     },
     "metadata": {},
     "output_type": "display_data"
    },
    {
     "data": {
      "text/plain": [
       "<Figure size 864x432 with 0 Axes>"
      ]
     },
     "metadata": {},
     "output_type": "display_data"
    },
    {
     "data": {
      "text/plain": [
       "<Figure size 864x432 with 0 Axes>"
      ]
     },
     "metadata": {},
     "output_type": "display_data"
    },
    {
     "data": {
      "text/plain": [
       "<Figure size 288x432 with 0 Axes>"
      ]
     },
     "metadata": {},
     "output_type": "display_data"
    },
    {
     "data": {
      "text/plain": [
       "<Figure size 288x432 with 0 Axes>"
      ]
     },
     "metadata": {},
     "output_type": "display_data"
    },
    {
     "data": {
      "text/plain": [
       "<Figure size 288x432 with 0 Axes>"
      ]
     },
     "metadata": {},
     "output_type": "display_data"
    },
    {
     "data": {
      "text/plain": [
       "<Figure size 288x432 with 0 Axes>"
      ]
     },
     "metadata": {},
     "output_type": "display_data"
    },
    {
     "data": {
      "text/plain": [
       "<Figure size 288x432 with 0 Axes>"
      ]
     },
     "metadata": {},
     "output_type": "display_data"
    },
    {
     "data": {
      "text/plain": [
       "<Figure size 576x432 with 0 Axes>"
      ]
     },
     "metadata": {},
     "output_type": "display_data"
    },
    {
     "data": {
      "text/plain": [
       "<Figure size 576x432 with 0 Axes>"
      ]
     },
     "metadata": {},
     "output_type": "display_data"
    },
    {
     "data": {
      "text/plain": [
       "<Figure size 576x432 with 0 Axes>"
      ]
     },
     "metadata": {},
     "output_type": "display_data"
    },
    {
     "data": {
      "text/plain": [
       "<Figure size 576x432 with 0 Axes>"
      ]
     },
     "metadata": {},
     "output_type": "display_data"
    },
    {
     "data": {
      "text/plain": [
       "<Figure size 576x432 with 0 Axes>"
      ]
     },
     "metadata": {},
     "output_type": "display_data"
    },
    {
     "data": {
      "text/plain": [
       "<Figure size 288x432 with 0 Axes>"
      ]
     },
     "metadata": {},
     "output_type": "display_data"
    },
    {
     "data": {
      "text/plain": [
       "<Figure size 288x432 with 0 Axes>"
      ]
     },
     "metadata": {},
     "output_type": "display_data"
    },
    {
     "data": {
      "text/plain": [
       "<Figure size 288x432 with 0 Axes>"
      ]
     },
     "metadata": {},
     "output_type": "display_data"
    },
    {
     "data": {
      "text/plain": [
       "<Figure size 288x432 with 0 Axes>"
      ]
     },
     "metadata": {},
     "output_type": "display_data"
    },
    {
     "data": {
      "text/plain": [
       "<Figure size 288x432 with 0 Axes>"
      ]
     },
     "metadata": {},
     "output_type": "display_data"
    },
    {
     "data": {
      "text/plain": [
       "<Figure size 864x432 with 0 Axes>"
      ]
     },
     "metadata": {},
     "output_type": "display_data"
    },
    {
     "data": {
      "text/plain": [
       "<Figure size 864x432 with 0 Axes>"
      ]
     },
     "metadata": {},
     "output_type": "display_data"
    },
    {
     "data": {
      "text/plain": [
       "<Figure size 864x432 with 0 Axes>"
      ]
     },
     "metadata": {},
     "output_type": "display_data"
    },
    {
     "data": {
      "text/plain": [
       "<Figure size 864x432 with 0 Axes>"
      ]
     },
     "metadata": {},
     "output_type": "display_data"
    },
    {
     "data": {
      "text/plain": [
       "<Figure size 864x432 with 0 Axes>"
      ]
     },
     "metadata": {},
     "output_type": "display_data"
    },
    {
     "data": {
      "text/plain": [
       "<Figure size 288x432 with 0 Axes>"
      ]
     },
     "metadata": {},
     "output_type": "display_data"
    },
    {
     "data": {
      "text/plain": [
       "<Figure size 288x432 with 0 Axes>"
      ]
     },
     "metadata": {},
     "output_type": "display_data"
    },
    {
     "data": {
      "text/plain": [
       "<Figure size 288x432 with 0 Axes>"
      ]
     },
     "metadata": {},
     "output_type": "display_data"
    },
    {
     "data": {
      "text/plain": [
       "<Figure size 288x432 with 0 Axes>"
      ]
     },
     "metadata": {},
     "output_type": "display_data"
    },
    {
     "data": {
      "text/plain": [
       "<Figure size 288x432 with 0 Axes>"
      ]
     },
     "metadata": {},
     "output_type": "display_data"
    },
    {
     "data": {
      "text/plain": [
       "<Figure size 576x432 with 0 Axes>"
      ]
     },
     "metadata": {},
     "output_type": "display_data"
    },
    {
     "data": {
      "text/plain": [
       "<Figure size 576x432 with 0 Axes>"
      ]
     },
     "metadata": {},
     "output_type": "display_data"
    },
    {
     "data": {
      "text/plain": [
       "<Figure size 576x432 with 0 Axes>"
      ]
     },
     "metadata": {},
     "output_type": "display_data"
    },
    {
     "data": {
      "text/plain": [
       "<Figure size 576x432 with 0 Axes>"
      ]
     },
     "metadata": {},
     "output_type": "display_data"
    },
    {
     "data": {
      "text/plain": [
       "<Figure size 576x432 with 0 Axes>"
      ]
     },
     "metadata": {},
     "output_type": "display_data"
    },
    {
     "data": {
      "text/plain": [
       "<Figure size 288x432 with 0 Axes>"
      ]
     },
     "metadata": {},
     "output_type": "display_data"
    },
    {
     "data": {
      "text/plain": [
       "<Figure size 288x432 with 0 Axes>"
      ]
     },
     "metadata": {},
     "output_type": "display_data"
    },
    {
     "data": {
      "text/plain": [
       "<Figure size 288x432 with 0 Axes>"
      ]
     },
     "metadata": {},
     "output_type": "display_data"
    },
    {
     "data": {
      "text/plain": [
       "<Figure size 288x432 with 0 Axes>"
      ]
     },
     "metadata": {},
     "output_type": "display_data"
    },
    {
     "data": {
      "text/plain": [
       "<Figure size 288x432 with 0 Axes>"
      ]
     },
     "metadata": {},
     "output_type": "display_data"
    }
   ],
   "source": [
    "fontname=\"Times New Roman\"\n",
    "# matplotlib.rcParams['font.serif'] =fontname\n",
    "# # matplotlib.rcParams['font.family'] = 'times'\n",
    "# # Say, \"the default sans-serif font is COMIC SANS\"\n",
    "# matplotlib.rcParams['font.sans-serif'] = \"Comic Sans MS\"\n",
    "# # Then, \"ALWAYS use sans-serif fonts\"\n",
    "# matplotlib.rcParams['font.family'] = \"sans-serif\"\n",
    "\n",
    "# plt.rcParams[\"font.family\"] = \"serif\"\n",
    "# plt.rcParams[\"font.serif\"] = [fontname]\n",
    "\n",
    "from itertools import product\n",
    "plot_values = {\n",
    "    \"Accuracy\" : \"test_acc\",\n",
    "    \"Balanced Accuracy\" : \"test/w_acc\",\n",
    "    \"Batch Entropy\" : \"Acquisition Entropy\",\n",
    "    \"Acquired Entropy\" : \"Dataset Entropy\",\n",
    "}\n",
    "upper_bounds = [True, False]\n",
    "y_shareds = [True, False]\n",
    "legends = [False]\n",
    "plt.rc('font', size=12)\n",
    "\n",
    "for y_shared, upper_bound, use_legend in product(upper_bounds, y_shareds, legends):\n",
    "    for plot_val ,plot_key in plot_values.items():\n",
    "        if plot_val in [\"Batch Entropy\", \"Acquired Entropy\"]:\n",
    "            if not (y_shared and upper_bound):\n",
    "                continue\n",
    "                \n",
    "        for setting in setting_dfs:\n",
    "            dfs = setting_dfs[setting]\n",
    "            if plot_key in dfs[0]:\n",
    "                for training_setting, training_styles in training_settings.items():\n",
    "                    num_cols = len(dfs)\n",
    "                    ax_legend = 0\n",
    "                    plot_size=(4*num_cols, 6)\n",
    "#                     final_size = (4, None)\n",
    "                    \n",
    "                    fig, axs = plt.subplots(ncols=num_cols, \n",
    "                                            sharey=y_shared, \n",
    "#                                             figsize=(4*num_cols, 6))\n",
    "                                            figsize=(4*num_cols, 6))\n",
    "                    if num_cols == 1:\n",
    "                        axs = [axs]\n",
    "                    if style_vals is None:\n",
    "                        style_name = None\n",
    "                    if unit_vals is None:\n",
    "                        unit_name = None\n",
    "                    skip = False\n",
    "\n",
    "                    for i in range(num_cols):\n",
    "                        df = dfs[i][dfs[i][style_name].isin(training_styles)]\n",
    "                        if len(df) == 0:\n",
    "                            continue\n",
    "                        ax = axs[i]\n",
    "\n",
    "                        legend = False\n",
    "                        if i == ax_legend:\n",
    "                            legend = 'auto'\n",
    "                        if plot_key not in df:\n",
    "                            skip = True\n",
    "                            continue\n",
    "                        ax = plot_standard_dev(\n",
    "                            ax, df, y=plot_key, hue=hue_name, style=style_name, units=unit_name, ci = 'sd', legend=legend , palette=palette, markers=markers,\n",
    "                            dashes=dashes,\n",
    "                            err_kws={\"alpha\":0.2}\n",
    "                        )  # , units=unit_name)\n",
    "                        # increase size of borders\n",
    "                        [x.set_linewidth(2) for x in ax.spines.values()]\n",
    "                        full_dict = {\n",
    "                            \"Basic\": {\"color\":\"black\", \"linestyle\":'--' },\n",
    "                            \"PT\" : {\"color\":\"black\", \"linestyle\":'- ' },\n",
    "                        }\n",
    "                        if upper_bound:\n",
    "                            for model in full_dict:\n",
    "                                if model in full_data_dict:\n",
    "                                    if plot_key in full_data_dict[model]:\n",
    "                                        ax.axhline(full_data_dict[model][plot_key][\"mean\"]/100, **full_dict[model])\n",
    "                        ax.set_xlabel(\"Labeled Samples\", fontname=fontname)\n",
    "                        ax.set_ylabel(plot_val, fontname=fontname)\n",
    "#                         ax.get_xaxis().set_major_formatter(plt.LogFormatter(10,  labelOnlyBase=False))\n",
    "                        if i == ax_legend:\n",
    "                            ax.get_legend().remove()\n",
    "#                         ax.set_title(\"test\")\n",
    "                    # fig.legend(loc='upper center', bbox_to_anchor=(0.5, 1.05),\n",
    "                    #           ncol=3, fancybox=True, shadow=True)\n",
    "                    # fig.legend(loc='center left', bbox_to_anchor=(1, 0.5))\n",
    "                    if skip:\n",
    "                        plt.clf()\n",
    "                        continue\n",
    "                    if num_cols == 3:\n",
    "                        ncol_legend = 5\n",
    "                    else:\n",
    "                        ncol_legend = 3\n",
    "                    if use_legend:\n",
    "                        fig.legend(loc='upper center', bbox_to_anchor=(0.5, -0.05),\n",
    "                                  fancybox=True, shadow=True, ncol=ncol_legend)\n",
    "\n",
    "#                     fig.set_size_inches(4*num_cols, 6)\n",
    "#                     fig.tight_layout()\n",
    "#                     Overlaps on CIFAR-100\n",
    "#                     fig.subplots_adjust(wspace=0.025, hspace=0)\n",
    "                    if y_shared is True:\n",
    "                        fig.subplots_adjust(wspace=0.075, hspace=0)\n",
    "                    else:\n",
    "                        fig.tight_layout()\n",
    "                    save_dir = savepath/ dataset / plot_val.replace(\" \", \"-\")\n",
    "                    if not save_dir.is_dir():\n",
    "                        save_dir.mkdir(parents=True)\n",
    "                    if upper_bound is True and y_shared is True:\n",
    "                        fn = f\"plot-{setting}_train-{training_setting}.pdf\"\n",
    "                    else:\n",
    "                        fn = f\"plot-{setting}_train-{training_setting}_yshared-{y_shared}_bound-{upper_bound}.pdf\"\n",
    "                    if use_legend is True:\n",
    "                        fn = fn.split(\".\")[0]+f\"_legend-{use_legend}.pdf\"\n",
    "                    print(f\"Filename:{fn}\")\n",
    "                    plt.savefig(save_dir/fn, bbox_inches='tight', pad_inches=0.01, dpi=600)\n",
    "                    plt.clf()\n",
    "#                     break\n",
    "#                 break\n",
    "#             break\n",
    "#                     plt.show()"
   ]
  },
  {
   "cell_type": "code",
   "execution_count": 117,
   "id": "98047758",
   "metadata": {
    "scrolled": true
   },
   "outputs": [
    {
     "data": {
      "text/plain": [
       "KeysView(RcParams({'_internal.classic_mode': False,\n",
       "          'agg.path.chunksize': 0,\n",
       "          'animation.avconv_args': [],\n",
       "          'animation.avconv_path': 'avconv',\n",
       "          'animation.bitrate': -1,\n",
       "          'animation.codec': 'h264',\n",
       "          'animation.convert_args': [],\n",
       "          'animation.convert_path': 'convert',\n",
       "          'animation.embed_limit': 20.0,\n",
       "          'animation.ffmpeg_args': [],\n",
       "          'animation.ffmpeg_path': 'ffmpeg',\n",
       "          'animation.frame_format': 'png',\n",
       "          'animation.html': 'none',\n",
       "          'animation.html_args': [],\n",
       "          'animation.writer': 'ffmpeg',\n",
       "          'axes.autolimit_mode': 'data',\n",
       "          'axes.axisbelow': True,\n",
       "          'axes.edgecolor': '.8',\n",
       "          'axes.facecolor': 'white',\n",
       "          'axes.formatter.limits': [-5, 6],\n",
       "          'axes.formatter.min_exponent': 0,\n",
       "          'axes.formatter.offset_threshold': 4,\n",
       "          'axes.formatter.use_locale': False,\n",
       "          'axes.formatter.use_mathtext': False,\n",
       "          'axes.formatter.useoffset': True,\n",
       "          'axes.grid': True,\n",
       "          'axes.grid.axis': 'both',\n",
       "          'axes.grid.which': 'major',\n",
       "          'axes.labelcolor': '.15',\n",
       "          'axes.labelpad': 4.0,\n",
       "          'axes.labelsize': 'medium',\n",
       "          'axes.labelweight': 'normal',\n",
       "          'axes.linewidth': 0.8,\n",
       "          'axes.prop_cycle': cycler('color', ['#1f77b4', '#ff7f0e', '#2ca02c', '#d62728', '#9467bd', '#8c564b', '#e377c2', '#7f7f7f', '#bcbd22', '#17becf']),\n",
       "          'axes.spines.bottom': True,\n",
       "          'axes.spines.left': True,\n",
       "          'axes.spines.right': True,\n",
       "          'axes.spines.top': True,\n",
       "          'axes.titlecolor': 'auto',\n",
       "          'axes.titlelocation': 'center',\n",
       "          'axes.titlepad': 6.0,\n",
       "          'axes.titlesize': 'large',\n",
       "          'axes.titleweight': 'normal',\n",
       "          'axes.titley': None,\n",
       "          'axes.unicode_minus': True,\n",
       "          'axes.xmargin': 0.05,\n",
       "          'axes.ymargin': 0.05,\n",
       "          'axes3d.grid': True,\n",
       "          'backend': 'module://ipykernel.pylab.backend_inline',\n",
       "          'backend_fallback': True,\n",
       "          'boxplot.bootstrap': None,\n",
       "          'boxplot.boxprops.color': 'black',\n",
       "          'boxplot.boxprops.linestyle': '-',\n",
       "          'boxplot.boxprops.linewidth': 1.0,\n",
       "          'boxplot.capprops.color': 'black',\n",
       "          'boxplot.capprops.linestyle': '-',\n",
       "          'boxplot.capprops.linewidth': 1.0,\n",
       "          'boxplot.flierprops.color': 'black',\n",
       "          'boxplot.flierprops.linestyle': 'none',\n",
       "          'boxplot.flierprops.linewidth': 1.0,\n",
       "          'boxplot.flierprops.marker': 'o',\n",
       "          'boxplot.flierprops.markeredgecolor': 'black',\n",
       "          'boxplot.flierprops.markeredgewidth': 1.0,\n",
       "          'boxplot.flierprops.markerfacecolor': 'none',\n",
       "          'boxplot.flierprops.markersize': 6.0,\n",
       "          'boxplot.meanline': False,\n",
       "          'boxplot.meanprops.color': 'C2',\n",
       "          'boxplot.meanprops.linestyle': '--',\n",
       "          'boxplot.meanprops.linewidth': 1.0,\n",
       "          'boxplot.meanprops.marker': '^',\n",
       "          'boxplot.meanprops.markeredgecolor': 'C2',\n",
       "          'boxplot.meanprops.markerfacecolor': 'C2',\n",
       "          'boxplot.meanprops.markersize': 6.0,\n",
       "          'boxplot.medianprops.color': 'C1',\n",
       "          'boxplot.medianprops.linestyle': '-',\n",
       "          'boxplot.medianprops.linewidth': 1.0,\n",
       "          'boxplot.notch': False,\n",
       "          'boxplot.patchartist': False,\n",
       "          'boxplot.showbox': True,\n",
       "          'boxplot.showcaps': True,\n",
       "          'boxplot.showfliers': True,\n",
       "          'boxplot.showmeans': False,\n",
       "          'boxplot.vertical': True,\n",
       "          'boxplot.whiskerprops.color': 'black',\n",
       "          'boxplot.whiskerprops.linestyle': '-',\n",
       "          'boxplot.whiskerprops.linewidth': 1.0,\n",
       "          'boxplot.whiskers': 1.5,\n",
       "          'contour.corner_mask': True,\n",
       "          'contour.linewidth': None,\n",
       "          'contour.negative_linestyle': 'dashed',\n",
       "          'date.autoformatter.day': '%Y-%m-%d',\n",
       "          'date.autoformatter.hour': '%m-%d %H',\n",
       "          'date.autoformatter.microsecond': '%M:%S.%f',\n",
       "          'date.autoformatter.minute': '%d %H:%M',\n",
       "          'date.autoformatter.month': '%Y-%m',\n",
       "          'date.autoformatter.second': '%H:%M:%S',\n",
       "          'date.autoformatter.year': '%Y',\n",
       "          'date.epoch': '1970-01-01T00:00:00',\n",
       "          'docstring.hardcopy': False,\n",
       "          'errorbar.capsize': 0.0,\n",
       "          'figure.autolayout': False,\n",
       "          'figure.constrained_layout.h_pad': 0.04167,\n",
       "          'figure.constrained_layout.hspace': 0.02,\n",
       "          'figure.constrained_layout.use': False,\n",
       "          'figure.constrained_layout.w_pad': 0.04167,\n",
       "          'figure.constrained_layout.wspace': 0.02,\n",
       "          'figure.dpi': 72.0,\n",
       "          'figure.edgecolor': (1, 1, 1, 0),\n",
       "          'figure.facecolor': 'white',\n",
       "          'figure.figsize': [6.0, 4.0],\n",
       "          'figure.frameon': True,\n",
       "          'figure.max_open_warning': 20,\n",
       "          'figure.raise_window': True,\n",
       "          'figure.subplot.bottom': 0.125,\n",
       "          'figure.subplot.hspace': 0.2,\n",
       "          'figure.subplot.left': 0.125,\n",
       "          'figure.subplot.right': 0.9,\n",
       "          'figure.subplot.top': 0.88,\n",
       "          'figure.subplot.wspace': 0.2,\n",
       "          'figure.titlesize': 'large',\n",
       "          'figure.titleweight': 'normal',\n",
       "          'font.cursive': ['Apple Chancery',\n",
       "                           'Textile',\n",
       "                           'Zapf Chancery',\n",
       "                           'Sand',\n",
       "                           'Script MT',\n",
       "                           'Felipa',\n",
       "                           'cursive'],\n",
       "          'font.family': ['sans-serif'],\n",
       "          'font.fantasy': ['Comic Neue',\n",
       "                           'Comic Sans MS',\n",
       "                           'Chicago',\n",
       "                           'Charcoal',\n",
       "                           'ImpactWestern',\n",
       "                           'Humor Sans',\n",
       "                           'xkcd',\n",
       "                           'fantasy'],\n",
       "          'font.monospace': ['DejaVu Sans Mono',\n",
       "                             'Bitstream Vera Sans Mono',\n",
       "                             'Computer Modern Typewriter',\n",
       "                             'Andale Mono',\n",
       "                             'Nimbus Mono L',\n",
       "                             'Courier New',\n",
       "                             'Courier',\n",
       "                             'Fixed',\n",
       "                             'Terminal',\n",
       "                             'monospace'],\n",
       "          'font.sans-serif': ['Arial',\n",
       "                              'DejaVu Sans',\n",
       "                              'Liberation Sans',\n",
       "                              'Bitstream Vera Sans',\n",
       "                              'sans-serif'],\n",
       "          'font.serif': ['DejaVu Serif',\n",
       "                         'Bitstream Vera Serif',\n",
       "                         'Computer Modern Roman',\n",
       "                         'New Century Schoolbook',\n",
       "                         'Century Schoolbook L',\n",
       "                         'Utopia',\n",
       "                         'ITC Bookman',\n",
       "                         'Bookman',\n",
       "                         'Nimbus Roman No9 L',\n",
       "                         'Times New Roman',\n",
       "                         'Times',\n",
       "                         'Palatino',\n",
       "                         'Charter',\n",
       "                         'serif'],\n",
       "          'font.size': 12.0,\n",
       "          'font.stretch': 'normal',\n",
       "          'font.style': 'normal',\n",
       "          'font.variant': 'normal',\n",
       "          'font.weight': 'normal',\n",
       "          'grid.alpha': 1.0,\n",
       "          'grid.color': '.8',\n",
       "          'grid.linestyle': '-',\n",
       "          'grid.linewidth': 0.8,\n",
       "          'hatch.color': 'black',\n",
       "          'hatch.linewidth': 1.0,\n",
       "          'hist.bins': 10,\n",
       "          'image.aspect': 'equal',\n",
       "          'image.cmap': 'rocket',\n",
       "          'image.composite_image': True,\n",
       "          'image.interpolation': 'antialiased',\n",
       "          'image.lut': 256,\n",
       "          'image.origin': 'upper',\n",
       "          'image.resample': True,\n",
       "          'interactive': True,\n",
       "          'keymap.all_axes': ['a'],\n",
       "          'keymap.back': ['left', 'c', 'backspace', 'MouseButton.BACK'],\n",
       "          'keymap.copy': ['ctrl+c', 'cmd+c'],\n",
       "          'keymap.forward': ['right', 'v', 'MouseButton.FORWARD'],\n",
       "          'keymap.fullscreen': ['f', 'ctrl+f'],\n",
       "          'keymap.grid': ['g'],\n",
       "          'keymap.grid_minor': ['G'],\n",
       "          'keymap.help': ['f1'],\n",
       "          'keymap.home': ['h', 'r', 'home'],\n",
       "          'keymap.pan': ['p'],\n",
       "          'keymap.quit': ['ctrl+w', 'cmd+w', 'q'],\n",
       "          'keymap.quit_all': [],\n",
       "          'keymap.save': ['s', 'ctrl+s'],\n",
       "          'keymap.xscale': ['k', 'L'],\n",
       "          'keymap.yscale': ['l'],\n",
       "          'keymap.zoom': ['o'],\n",
       "          'legend.borderaxespad': 0.5,\n",
       "          'legend.borderpad': 0.4,\n",
       "          'legend.columnspacing': 2.0,\n",
       "          'legend.edgecolor': '0.8',\n",
       "          'legend.facecolor': 'inherit',\n",
       "          'legend.fancybox': True,\n",
       "          'legend.fontsize': 'medium',\n",
       "          'legend.framealpha': 0.8,\n",
       "          'legend.frameon': True,\n",
       "          'legend.handleheight': 0.7,\n",
       "          'legend.handlelength': 2.0,\n",
       "          'legend.handletextpad': 0.8,\n",
       "          'legend.labelspacing': 0.5,\n",
       "          'legend.loc': 'best',\n",
       "          'legend.markerscale': 1.0,\n",
       "          'legend.numpoints': 1,\n",
       "          'legend.scatterpoints': 1,\n",
       "          'legend.shadow': False,\n",
       "          'legend.title_fontsize': None,\n",
       "          'lines.antialiased': True,\n",
       "          'lines.color': 'C0',\n",
       "          'lines.dash_capstyle': 'butt',\n",
       "          'lines.dash_joinstyle': 'round',\n",
       "          'lines.dashdot_pattern': [6.4, 1.6, 1.0, 1.6],\n",
       "          'lines.dashed_pattern': [3.7, 1.6],\n",
       "          'lines.dotted_pattern': [1.0, 1.65],\n",
       "          'lines.linestyle': '-',\n",
       "          'lines.linewidth': 1.5,\n",
       "          'lines.marker': 'None',\n",
       "          'lines.markeredgecolor': 'auto',\n",
       "          'lines.markeredgewidth': 1.0,\n",
       "          'lines.markerfacecolor': 'auto',\n",
       "          'lines.markersize': 6.0,\n",
       "          'lines.scale_dashes': True,\n",
       "          'lines.solid_capstyle': 'round',\n",
       "          'lines.solid_joinstyle': 'round',\n",
       "          'markers.fillstyle': 'full',\n",
       "          'mathtext.bf': 'sans:bold',\n",
       "          'mathtext.cal': 'cursive',\n",
       "          'mathtext.default': 'it',\n",
       "          'mathtext.fallback': 'cm',\n",
       "          'mathtext.fallback_to_cm': None,\n",
       "          'mathtext.fontset': 'dejavusans',\n",
       "          'mathtext.it': 'sans:italic',\n",
       "          'mathtext.rm': 'sans',\n",
       "          'mathtext.sf': 'sans',\n",
       "          'mathtext.tt': 'monospace',\n",
       "          'mpl_toolkits.legacy_colorbar': True,\n",
       "          'patch.antialiased': True,\n",
       "          'patch.edgecolor': 'w',\n",
       "          'patch.facecolor': 'C0',\n",
       "          'patch.force_edgecolor': True,\n",
       "          'patch.linewidth': 1.0,\n",
       "          'path.effects': [],\n",
       "          'path.simplify': True,\n",
       "          'path.simplify_threshold': 0.111111111111,\n",
       "          'path.sketch': None,\n",
       "          'path.snap': True,\n",
       "          'pcolor.shading': 'flat',\n",
       "          'pdf.compression': 6,\n",
       "          'pdf.fonttype': 3,\n",
       "          'pdf.inheritcolor': False,\n",
       "          'pdf.use14corefonts': False,\n",
       "          'pgf.preamble': '',\n",
       "          'pgf.rcfonts': True,\n",
       "          'pgf.texsystem': 'xelatex',\n",
       "          'polaraxes.grid': True,\n",
       "          'ps.distiller.res': 6000,\n",
       "          'ps.fonttype': 3,\n",
       "          'ps.papersize': 'letter',\n",
       "          'ps.useafm': False,\n",
       "          'ps.usedistiller': None,\n",
       "          'savefig.bbox': None,\n",
       "          'savefig.directory': '~',\n",
       "          'savefig.dpi': 'figure',\n",
       "          'savefig.edgecolor': 'auto',\n",
       "          'savefig.facecolor': 'auto',\n",
       "          'savefig.format': 'png',\n",
       "          'savefig.jpeg_quality': 95,\n",
       "          'savefig.orientation': 'portrait',\n",
       "          'savefig.pad_inches': 0.1,\n",
       "          'savefig.transparent': False,\n",
       "          'scatter.edgecolors': 'face',\n",
       "          'scatter.marker': 'o',\n",
       "          'svg.fonttype': 'path',\n",
       "          'svg.hashsalt': None,\n",
       "          'svg.image_inline': True,\n",
       "          'text.antialiased': True,\n",
       "          'text.color': '.15',\n",
       "          'text.hinting': 'force_autohint',\n",
       "          'text.hinting_factor': 8,\n",
       "          'text.kerning_factor': 0,\n",
       "          'text.latex.preamble': '',\n",
       "          'text.latex.preview': False,\n",
       "          'text.usetex': False,\n",
       "          'timezone': 'UTC',\n",
       "          'tk.window_focus': False,\n",
       "          'toolbar': 'toolbar2',\n",
       "          'webagg.address': '127.0.0.1',\n",
       "          'webagg.open_in_browser': True,\n",
       "          'webagg.port': 8988,\n",
       "          'webagg.port_retries': 50,\n",
       "          'xaxis.labellocation': 'center',\n",
       "          'xtick.alignment': 'center',\n",
       "          'xtick.bottom': False,\n",
       "          'xtick.color': '.15',\n",
       "          'xtick.direction': 'out',\n",
       "          'xtick.labelbottom': True,\n",
       "          'xtick.labelsize': 'medium',\n",
       "          'xtick.labeltop': False,\n",
       "          'xtick.major.bottom': True,\n",
       "          'xtick.major.pad': 3.5,\n",
       "          'xtick.major.size': 3.5,\n",
       "          'xtick.major.top': True,\n",
       "          'xtick.major.width': 0.8,\n",
       "          'xtick.minor.bottom': True,\n",
       "          'xtick.minor.pad': 3.4,\n",
       "          'xtick.minor.size': 2.0,\n",
       "          'xtick.minor.top': True,\n",
       "          'xtick.minor.visible': False,\n",
       "          'xtick.minor.width': 0.6,\n",
       "          'xtick.top': False,\n",
       "          'yaxis.labellocation': 'center',\n",
       "          'ytick.alignment': 'center_baseline',\n",
       "          'ytick.color': '.15',\n",
       "          'ytick.direction': 'out',\n",
       "          'ytick.labelleft': True,\n",
       "          'ytick.labelright': False,\n",
       "          'ytick.labelsize': 'medium',\n",
       "          'ytick.left': False,\n",
       "          'ytick.major.left': True,\n",
       "          'ytick.major.pad': 3.5,\n",
       "          'ytick.major.right': True,\n",
       "          'ytick.major.size': 3.5,\n",
       "          'ytick.major.width': 0.8,\n",
       "          'ytick.minor.left': True,\n",
       "          'ytick.minor.pad': 3.4,\n",
       "          'ytick.minor.right': True,\n",
       "          'ytick.minor.size': 2.0,\n",
       "          'ytick.minor.visible': False,\n",
       "          'ytick.minor.width': 0.6,\n",
       "          'ytick.right': False}))"
      ]
     },
     "execution_count": 117,
     "metadata": {},
     "output_type": "execute_result"
    }
   ],
   "source": [
    "matplotlib.rcParams.keys()"
   ]
  },
  {
   "cell_type": "code",
   "execution_count": null,
   "id": "9b7ab96d",
   "metadata": {},
   "outputs": [],
   "source": [
    "dfs[i][style_name].isin(hue_settings)"
   ]
  },
  {
   "cell_type": "markdown",
   "id": "b9a2f6aa",
   "metadata": {},
   "source": [
    "## Path Selection"
   ]
  },
  {
   "cell_type": "code",
   "execution_count": null,
   "id": "2b701922",
   "metadata": {
    "scrolled": true
   },
   "outputs": [],
   "source": [
    "dfs[0]"
   ]
  },
  {
   "cell_type": "code",
   "execution_count": null,
   "id": "e4f8f54f",
   "metadata": {},
   "outputs": [],
   "source": [
    "from IPython.display import HTML"
   ]
  },
  {
   "cell_type": "code",
   "execution_count": null,
   "id": "12a07d6a",
   "metadata": {
    "scrolled": false
   },
   "outputs": [],
   "source": [
    "val_df = dfs[0].loc[:, [col for col in dfs[0].columns if \"test/rec\" in col or col ==\"num_samples\"] ]\n",
    "val_df\n",
    "# dfs[0].columns[0]\n",
    "HTML(val_df.groupby(\"num_samples\").mean().to_html(classes='table table-stripped'))"
   ]
  },
  {
   "cell_type": "code",
   "execution_count": null,
   "id": "06b97883",
   "metadata": {},
   "outputs": [],
   "source": [
    "test = [x for x in range(10) if x%2 ==0]\n",
    "test"
   ]
  },
  {
   "cell_type": "markdown",
   "id": "b56a3378",
   "metadata": {},
   "source": [
    "## Obtain Numerical Results"
   ]
  },
  {
   "cell_type": "code",
   "execution_count": null,
   "id": "990574dd",
   "metadata": {},
   "outputs": [],
   "source": [
    "metric = \"test_acc\""
   ]
  },
  {
   "cell_type": "code",
   "execution_count": null,
   "id": "e9287d1f",
   "metadata": {},
   "outputs": [],
   "source": [
    "df = dfs[0]\n",
    "df_random = df[df[\"Name\"]==\"random\"]\n",
    "# df_random = df.loc[:, [\"test_acc\", \"num_samples\", \"PreTraining & Semi-Supervised\"]]"
   ]
  },
  {
   "cell_type": "code",
   "execution_count": null,
   "id": "aa4c5e05",
   "metadata": {
    "scrolled": false
   },
   "outputs": [],
   "source": [
    "for i in range(len(dfs)):\n",
    "    df = dfs[i]\n",
    "    df_random = df[df[\"Name\"]==\"random\"]\n",
    "    df_random = df_random.groupby([\"num_samples\", \"PreTraining & Semi-Supervised\"], ).agg({metric : ['mean', 'std']}).round(4)*100\n",
    "    print(base_paths[i])\n",
    "    print(df_random)"
   ]
  },
  {
   "cell_type": "code",
   "execution_count": null,
   "id": "8df8d514",
   "metadata": {},
   "outputs": [],
   "source": []
  },
  {
   "cell_type": "code",
   "execution_count": null,
   "id": "0895797c",
   "metadata": {},
   "outputs": [],
   "source": []
  }
 ],
 "metadata": {
  "kernelspec": {
   "display_name": "Python 3",
   "language": "python",
   "name": "python3"
  },
  "language_info": {
   "codemirror_mode": {
    "name": "ipython",
    "version": 3
   },
   "file_extension": ".py",
   "mimetype": "text/x-python",
   "name": "python",
   "nbconvert_exporter": "python",
   "pygments_lexer": "ipython3",
   "version": "3.8.8"
  }
 },
 "nbformat": 4,
 "nbformat_minor": 5
}
