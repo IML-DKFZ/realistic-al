{
 "cells": [
  {
   "cell_type": "code",
   "execution_count": 158,
   "id": "e0904943",
   "metadata": {},
   "outputs": [],
   "source": [
    "import os \n",
    "import numpy as np\n",
    "import matplotlib.pyplot as plt\n",
    "import seaborn as sns\n",
    "\n",
    "import pandas as pd"
   ]
  },
  {
   "cell_type": "code",
   "execution_count": 159,
   "id": "b4b08fbf",
   "metadata": {},
   "outputs": [],
   "source": [
    "data = np.load(\"/home/c817h/Documents/logs/activelearning/mnist_ba_bald/2021-10-18_10-07-53-710289/stored.npz\")\n",
    "file = \"stored.npz\"\n",
    "base_dir = \"/home/c817h/Documents/logs/activelearning/mnist_ba_bald\"\n",
    "\n",
    "run_full = np.array( [0.9807, 0.9802, 0.9812, 0.9760, 0.9804 ])\n",
    "max_acc = run_full.mean()\n",
    "names = ['BALD', 'Entropy', 'Random']\n",
    "base_dirs = [\n",
    "    \"/home/c817h/Documents/logs/activelearning/mnist_ba_bald\",\n",
    "    \"/home/c817h/Documents/logs/activelearning/mnist_ba_entropy\",\n",
    "    \"/home/c817h/Documents/logs/activelearning/mnist_ba_random\"\n",
    "]"
   ]
  },
  {
   "cell_type": "code",
   "execution_count": 160,
   "id": "d736f190",
   "metadata": {},
   "outputs": [
    {
     "name": "stdout",
     "output_type": "stream",
     "text": [
      "BALD\n",
      "/home/c817h/Documents/logs/activelearning/mnist_ba_bald\n",
      "/home/c817h/Documents/logs/activelearning/mnist_ba_bald/2021-10-18_10-07-53-710289/stored.npz\n",
      "/home/c817h/Documents/logs/activelearning/mnist_ba_bald/2021-10-18_10-20-05-376796/stored.npz\n",
      "/home/c817h/Documents/logs/activelearning/mnist_ba_bald/2021-10-18_10-51-41-533238/stored.npz\n",
      "Entropy\n",
      "/home/c817h/Documents/logs/activelearning/mnist_ba_entropy\n",
      "/home/c817h/Documents/logs/activelearning/mnist_ba_entropy/2021-10-18_13-17-51-164354/stored.npz\n",
      "/home/c817h/Documents/logs/activelearning/mnist_ba_entropy/2021-10-18_13-54-36-961950/stored.npz\n",
      "/home/c817h/Documents/logs/activelearning/mnist_ba_entropy/2021-10-18_13-37-48-269073/stored.npz\n",
      "Random\n",
      "/home/c817h/Documents/logs/activelearning/mnist_ba_random\n",
      "/home/c817h/Documents/logs/activelearning/mnist_ba_random/2021-10-18_11-05-21-291261/stored.npz\n",
      "/home/c817h/Documents/logs/activelearning/mnist_ba_random/2021-10-18_12-02-21-263222/stored.npz\n",
      "/home/c817h/Documents/logs/activelearning/mnist_ba_random/2021-10-18_11-40-36-357105/stored.npz\n",
      "/home/c817h/Documents/logs/activelearning/mnist_ba_random/2021-10-18_11-20-33-792082/stored.npz\n"
     ]
    }
   ],
   "source": [
    "df = []\n",
    "for name, base_dir in zip(names, base_dirs):\n",
    "    print(name)\n",
    "    print(base_dir)\n",
    "    out_dicts = []\n",
    "    folders=os.listdir(base_dir)\n",
    "    for folder in folders:\n",
    "        path = os.path.join(base_dir, folder, file)\n",
    "        if os.path.isfile(path):\n",
    "            print(path)\n",
    "            out_dicts.append(dict(np.load(path)))\n",
    "    \n",
    "    dataframe = []\n",
    "    for i, out_dict in enumerate(out_dicts):\n",
    "        for key in out_dict:\n",
    "            pop_keys=[]\n",
    "            if len(out_dict[key].shape) > 1:\n",
    "                pop_keys.append(key)\n",
    "        for key in pop_keys:\n",
    "            out_dict.pop(key)\n",
    "        df_temp = pd.DataFrame(out_dict)\n",
    "        df_temp['run'] = i\n",
    "        dataframe.append(df_temp)\n",
    "\n",
    "    dataframe = pd.concat(dataframe)\n",
    "    dataframe['Sampling'] = name\n",
    "    df.append(dataframe)\n",
    "df = pd.concat(df)\n",
    "df.reset_index(inplace=True)"
   ]
  },
  {
   "cell_type": "code",
   "execution_count": 161,
   "id": "d1c8cc36",
   "metadata": {},
   "outputs": [
    {
     "data": {
      "text/html": [
       "<div>\n",
       "<style scoped>\n",
       "    .dataframe tbody tr th:only-of-type {\n",
       "        vertical-align: middle;\n",
       "    }\n",
       "\n",
       "    .dataframe tbody tr th {\n",
       "        vertical-align: top;\n",
       "    }\n",
       "\n",
       "    .dataframe thead th {\n",
       "        text-align: right;\n",
       "    }\n",
       "</style>\n",
       "<table border=\"1\" class=\"dataframe\">\n",
       "  <thead>\n",
       "    <tr style=\"text-align: right;\">\n",
       "      <th></th>\n",
       "      <th>index</th>\n",
       "      <th>val_acc</th>\n",
       "      <th>test_acc</th>\n",
       "      <th>num_samples</th>\n",
       "      <th>run</th>\n",
       "      <th>Sampling</th>\n",
       "    </tr>\n",
       "  </thead>\n",
       "  <tbody>\n",
       "    <tr>\n",
       "      <th>0</th>\n",
       "      <td>0</td>\n",
       "      <td>0.837167</td>\n",
       "      <td>0.8378</td>\n",
       "      <td>100</td>\n",
       "      <td>0</td>\n",
       "      <td>BALD</td>\n",
       "    </tr>\n",
       "    <tr>\n",
       "      <th>1</th>\n",
       "      <td>1</td>\n",
       "      <td>0.891833</td>\n",
       "      <td>0.8973</td>\n",
       "      <td>200</td>\n",
       "      <td>0</td>\n",
       "      <td>BALD</td>\n",
       "    </tr>\n",
       "    <tr>\n",
       "      <th>2</th>\n",
       "      <td>2</td>\n",
       "      <td>0.950833</td>\n",
       "      <td>0.9521</td>\n",
       "      <td>300</td>\n",
       "      <td>0</td>\n",
       "      <td>BALD</td>\n",
       "    </tr>\n",
       "    <tr>\n",
       "      <th>3</th>\n",
       "      <td>3</td>\n",
       "      <td>0.945250</td>\n",
       "      <td>0.9409</td>\n",
       "      <td>400</td>\n",
       "      <td>0</td>\n",
       "      <td>BALD</td>\n",
       "    </tr>\n",
       "    <tr>\n",
       "      <th>4</th>\n",
       "      <td>4</td>\n",
       "      <td>0.956667</td>\n",
       "      <td>0.9558</td>\n",
       "      <td>500</td>\n",
       "      <td>0</td>\n",
       "      <td>BALD</td>\n",
       "    </tr>\n",
       "    <tr>\n",
       "      <th>...</th>\n",
       "      <td>...</td>\n",
       "      <td>...</td>\n",
       "      <td>...</td>\n",
       "      <td>...</td>\n",
       "      <td>...</td>\n",
       "      <td>...</td>\n",
       "    </tr>\n",
       "    <tr>\n",
       "      <th>95</th>\n",
       "      <td>5</td>\n",
       "      <td>0.937250</td>\n",
       "      <td>0.9415</td>\n",
       "      <td>600</td>\n",
       "      <td>3</td>\n",
       "      <td>Random</td>\n",
       "    </tr>\n",
       "    <tr>\n",
       "      <th>96</th>\n",
       "      <td>6</td>\n",
       "      <td>0.940750</td>\n",
       "      <td>0.9481</td>\n",
       "      <td>700</td>\n",
       "      <td>3</td>\n",
       "      <td>Random</td>\n",
       "    </tr>\n",
       "    <tr>\n",
       "      <th>97</th>\n",
       "      <td>7</td>\n",
       "      <td>0.940000</td>\n",
       "      <td>0.9446</td>\n",
       "      <td>800</td>\n",
       "      <td>3</td>\n",
       "      <td>Random</td>\n",
       "    </tr>\n",
       "    <tr>\n",
       "      <th>98</th>\n",
       "      <td>8</td>\n",
       "      <td>0.939667</td>\n",
       "      <td>0.9468</td>\n",
       "      <td>900</td>\n",
       "      <td>3</td>\n",
       "      <td>Random</td>\n",
       "    </tr>\n",
       "    <tr>\n",
       "      <th>99</th>\n",
       "      <td>9</td>\n",
       "      <td>0.938167</td>\n",
       "      <td>0.9443</td>\n",
       "      <td>1000</td>\n",
       "      <td>3</td>\n",
       "      <td>Random</td>\n",
       "    </tr>\n",
       "  </tbody>\n",
       "</table>\n",
       "<p>100 rows × 6 columns</p>\n",
       "</div>"
      ],
      "text/plain": [
       "    index   val_acc  test_acc  num_samples  run Sampling\n",
       "0       0  0.837167    0.8378          100    0     BALD\n",
       "1       1  0.891833    0.8973          200    0     BALD\n",
       "2       2  0.950833    0.9521          300    0     BALD\n",
       "3       3  0.945250    0.9409          400    0     BALD\n",
       "4       4  0.956667    0.9558          500    0     BALD\n",
       "..    ...       ...       ...          ...  ...      ...\n",
       "95      5  0.937250    0.9415          600    3   Random\n",
       "96      6  0.940750    0.9481          700    3   Random\n",
       "97      7  0.940000    0.9446          800    3   Random\n",
       "98      8  0.939667    0.9468          900    3   Random\n",
       "99      9  0.938167    0.9443         1000    3   Random\n",
       "\n",
       "[100 rows x 6 columns]"
      ]
     },
     "execution_count": 161,
     "metadata": {},
     "output_type": "execute_result"
    }
   ],
   "source": [
    "df"
   ]
  },
  {
   "cell_type": "code",
   "execution_count": 167,
   "id": "89fbd431",
   "metadata": {},
   "outputs": [
    {
     "data": {
      "image/png": "[encoded data removed]",
      "text/plain": [
       "<Figure size 576x432 with 1 Axes>"
      ]
     },
     "metadata": {
      "needs_background": "light"
     },
     "output_type": "display_data"
    }
   ],
   "source": [
    "fig, ax = plt.subplots()\n",
    "# plt.plot(num_samples, test_accs.mean(axis=1) ) #,y_err=test_accs.std(axis=1))\n",
    "# plt.errorbar(num_samples, test_accs.mean(axis=1) , test_accs.std(axis=1), label='BALD')\n",
    "sns.lineplot(ax=ax, data=df, y='test_acc',x='num_samples', hue='Sampling', ci=\"sd\" )\n",
    "ax.plot(data['num_samples'], [max_acc]*len(data['num_samples']), label='Full Dataset', color='r')\n",
    "plt.legend()\n",
    "# ax.set_ylim(0.92, 0.98)\n",
    "fig.set_size_inches(8, 6)\n",
    "plt.show()"
   ]
  },
  {
   "cell_type": "code",
   "execution_count": 134,
   "id": "a19db9e7",
   "metadata": {},
   "outputs": [
    {
     "data": {
      "text/plain": [
       "['2021-10-18_10-07-53-710289',\n",
       " '2021-10-18_10-20-05-376796',\n",
       " '2021-10-18_11-05-11-658043',\n",
       " '2021-10-18_10-51-41-533238']"
      ]
     },
     "execution_count": 134,
     "metadata": {},
     "output_type": "execute_result"
    }
   ],
   "source": [
    "folders"
   ]
  },
  {
   "cell_type": "code",
   "execution_count": null,
   "id": "735e6229",
   "metadata": {},
   "outputs": [],
   "source": []
  }
 ],
 "metadata": {
  "kernelspec": {
   "display_name": "Python 3 (ipykernel)",
   "language": "python",
   "name": "python3"
  },
  "language_info": {
   "codemirror_mode": {
    "name": "ipython",
    "version": 3
   },
   "file_extension": ".py",
   "mimetype": "text/x-python",
   "name": "python",
   "nbconvert_exporter": "python",
   "pygments_lexer": "ipython3",
   "version": "3.8.11"
  }
 },
 "nbformat": 4,
 "nbformat_minor": 5
}
