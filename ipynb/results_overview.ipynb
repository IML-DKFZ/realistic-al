{
 "cells": [
  {
   "cell_type": "code",
   "execution_count": 4,
   "id": "385d9c4e-a217-49e3-96c8-fbc0aecdd826",
   "metadata": {
    "scrolled": false
   },
   "outputs": [
    {
     "data": {
      "text/markdown": [
       "## test_w_acc"
      ],
      "text/plain": [
       "<IPython.core.display.Markdown object>"
      ]
     },
     "metadata": {},
     "output_type": "display_data"
    },
    {
     "data": {
      "text/html": [
       "<style  type=\"text/css\" >\n",
       "#T_2aa24_row0_col1,#T_2aa24_row0_col3,#T_2aa24_row3_col2,#T_2aa24_row3_col3{\n",
       "            background-color:  #023858;\n",
       "            color:  #f1f1f1;\n",
       "        }#T_2aa24_row0_col2{\n",
       "            background-color:  #c9cee4;\n",
       "            color:  #000000;\n",
       "        }#T_2aa24_row1_col1{\n",
       "            background-color:  #0c74b2;\n",
       "            color:  #f1f1f1;\n",
       "        }#T_2aa24_row1_col2{\n",
       "            background-color:  #f5eff6;\n",
       "            color:  #000000;\n",
       "        }#T_2aa24_row1_col3,#T_2aa24_row2_col3,#T_2aa24_row7_col3{\n",
       "            background-color:  #2685bb;\n",
       "            color:  #000000;\n",
       "        }#T_2aa24_row2_col1{\n",
       "            background-color:  #62a2cb;\n",
       "            color:  #000000;\n",
       "        }#T_2aa24_row2_col2,#T_2aa24_row5_col3,#T_2aa24_row7_col1{\n",
       "            background-color:  #fff7fb;\n",
       "            color:  #000000;\n",
       "        }#T_2aa24_row3_col1{\n",
       "            background-color:  #e7e3f0;\n",
       "            color:  #000000;\n",
       "        }#T_2aa24_row4_col1{\n",
       "            background-color:  #6ba5cd;\n",
       "            color:  #000000;\n",
       "        }#T_2aa24_row4_col2,#T_2aa24_row5_col1,#T_2aa24_row5_col2,#T_2aa24_row6_col2{\n",
       "            background-color:  #000000;\n",
       "            color:  #f1f1f1;\n",
       "        }#T_2aa24_row4_col3,#T_2aa24_row6_col3{\n",
       "            background-color:  #b4c4df;\n",
       "            color:  #000000;\n",
       "        }#T_2aa24_row6_col1{\n",
       "            background-color:  #4897c4;\n",
       "            color:  #000000;\n",
       "        }#T_2aa24_row7_col2{\n",
       "            background-color:  #e5e1ef;\n",
       "            color:  #000000;\n",
       "        }</style><table id=\"T_2aa24_\" ><thead>    <tr>        <th class=\"blank level0\" ></th>        <th class=\"col_heading level0 col0\" >Experiment</th>        <th class=\"col_heading level0 col1\" >Mean</th>        <th class=\"col_heading level0 col2\" >STD</th>        <th class=\"col_heading level0 col3\" >_Runs</th>    </tr></thead><tbody>\n",
       "                <tr>\n",
       "                        <th id=\"T_2aa24_level0_row0\" class=\"row_heading level0 row0\" >0</th>\n",
       "                        <td id=\"T_2aa24_row0_col0\" class=\"data row0 col0\" >fixmatch_lab-275_resnet_fixmatch_ep-200_drop-0_lr-0.03_wd-0.0005_opt-sgd_fixmatch_trafo-imagenet_train_wloss-True</td>\n",
       "                        <td id=\"T_2aa24_row0_col1\" class=\"data row0 col1\" >35.980000</td>\n",
       "                        <td id=\"T_2aa24_row0_col2\" class=\"data row0 col2\" >1.760000</td>\n",
       "                        <td id=\"T_2aa24_row0_col3\" class=\"data row0 col3\" >3</td>\n",
       "            </tr>\n",
       "            <tr>\n",
       "                        <th id=\"T_2aa24_level0_row1\" class=\"row_heading level0 row1\" >1</th>\n",
       "                        <td id=\"T_2aa24_row1_col0\" class=\"data row1 col0\" >fixmatch_lab-275_resnet_fixmatch_ep-200_drop-0_lr-0.03_wd-0.005_opt-sgd_fixmatch_trafo-imagenet_train_wloss-True</td>\n",
       "                        <td id=\"T_2aa24_row1_col1\" class=\"data row1 col1\" >31.030000</td>\n",
       "                        <td id=\"T_2aa24_row1_col2\" class=\"data row1 col2\" >0.470000</td>\n",
       "                        <td id=\"T_2aa24_row1_col3\" class=\"data row1 col3\" >2</td>\n",
       "            </tr>\n",
       "            <tr>\n",
       "                        <th id=\"T_2aa24_level0_row2\" class=\"row_heading level0 row2\" >2</th>\n",
       "                        <td id=\"T_2aa24_row2_col0\" class=\"data row2 col0\" >fixmatch_lab-275_resnet_fixmatch_ep-200_drop-0_lr-0.3_wd-0.0005_opt-sgd_fixmatch_trafo-imagenet_train_wloss-True</td>\n",
       "                        <td id=\"T_2aa24_row2_col1\" class=\"data row2 col1\" >27.380000</td>\n",
       "                        <td id=\"T_2aa24_row2_col2\" class=\"data row2 col2\" >0.080000</td>\n",
       "                        <td id=\"T_2aa24_row2_col3\" class=\"data row2 col3\" >2</td>\n",
       "            </tr>\n",
       "            <tr>\n",
       "                        <th id=\"T_2aa24_level0_row3\" class=\"row_heading level0 row3\" >3</th>\n",
       "                        <td id=\"T_2aa24_row3_col0\" class=\"data row3 col0\" >fixmatch_lab-275_resnet_fixmatch_ep-200_drop-0_lr-0.3_wd-0.005_opt-sgd_fixmatch_trafo-imagenet_train_wloss-True</td>\n",
       "                        <td id=\"T_2aa24_row3_col1\" class=\"data row3 col1\" >20.210000</td>\n",
       "                        <td id=\"T_2aa24_row3_col2\" class=\"data row3 col2\" >6.230000</td>\n",
       "                        <td id=\"T_2aa24_row3_col3\" class=\"data row3 col3\" >3</td>\n",
       "            </tr>\n",
       "            <tr>\n",
       "                        <th id=\"T_2aa24_level0_row4\" class=\"row_heading level0 row4\" >4</th>\n",
       "                        <td id=\"T_2aa24_row4_col0\" class=\"data row4 col0\" >fixmatch_lab-55_resnet_fixmatch_ep-200_drop-0_lr-0.03_wd-0.0005_opt-sgd_fixmatch_trafo-imagenet_train_wloss-True</td>\n",
       "                        <td id=\"T_2aa24_row4_col1\" class=\"data row4 col1\" >27.020000</td>\n",
       "                        <td id=\"T_2aa24_row4_col2\" class=\"data row4 col2\" >nan</td>\n",
       "                        <td id=\"T_2aa24_row4_col3\" class=\"data row4 col3\" >1</td>\n",
       "            </tr>\n",
       "            <tr>\n",
       "                        <th id=\"T_2aa24_level0_row5\" class=\"row_heading level0 row5\" >5</th>\n",
       "                        <td id=\"T_2aa24_row5_col0\" class=\"data row5 col0\" >fixmatch_lab-55_resnet_fixmatch_ep-200_drop-0_lr-0.03_wd-0.005_opt-sgd_fixmatch_trafo-imagenet_train_wloss-True</td>\n",
       "                        <td id=\"T_2aa24_row5_col1\" class=\"data row5 col1\" >nan</td>\n",
       "                        <td id=\"T_2aa24_row5_col2\" class=\"data row5 col2\" >nan</td>\n",
       "                        <td id=\"T_2aa24_row5_col3\" class=\"data row5 col3\" >0</td>\n",
       "            </tr>\n",
       "            <tr>\n",
       "                        <th id=\"T_2aa24_level0_row6\" class=\"row_heading level0 row6\" >6</th>\n",
       "                        <td id=\"T_2aa24_row6_col0\" class=\"data row6 col0\" >fixmatch_lab-55_resnet_fixmatch_ep-200_drop-0_lr-0.3_wd-0.0005_opt-sgd_fixmatch_trafo-imagenet_train_wloss-True</td>\n",
       "                        <td id=\"T_2aa24_row6_col1\" class=\"data row6 col1\" >28.320000</td>\n",
       "                        <td id=\"T_2aa24_row6_col2\" class=\"data row6 col2\" >nan</td>\n",
       "                        <td id=\"T_2aa24_row6_col3\" class=\"data row6 col3\" >1</td>\n",
       "            </tr>\n",
       "            <tr>\n",
       "                        <th id=\"T_2aa24_level0_row7\" class=\"row_heading level0 row7\" >7</th>\n",
       "                        <td id=\"T_2aa24_row7_col0\" class=\"data row7 col0\" >fixmatch_lab-55_resnet_fixmatch_ep-200_drop-0_lr-0.3_wd-0.005_opt-sgd_fixmatch_trafo-imagenet_train_wloss-True</td>\n",
       "                        <td id=\"T_2aa24_row7_col1\" class=\"data row7 col1\" >17.420000</td>\n",
       "                        <td id=\"T_2aa24_row7_col2\" class=\"data row7 col2\" >1.060000</td>\n",
       "                        <td id=\"T_2aa24_row7_col3\" class=\"data row7 col3\" >2</td>\n",
       "            </tr>\n",
       "    </tbody></table>"
      ],
      "text/plain": [
       "<pandas.io.formats.style.Styler at 0x7f1f882d4490>"
      ]
     },
     "metadata": {},
     "output_type": "display_data"
    }
   ],
   "source": [
    "from pathlib import Path\n",
    "\n",
    "import pandas as pd\n",
    "from IPython.display import Markdown, display\n",
    "\n",
    "base_path = Path(\"/home/c817h/network/Cluster-Experiments/activelearning/fixmatch/miotcd\").resolve()\n",
    "paths = base_path.glob(\"*/*.csv\")\n",
    "\n",
    "modes = set(map(lambda path: str(path.stem), paths))\n",
    "\n",
    "for mode in sorted(modes):\n",
    "    if \"test\" in mode:\n",
    "        paths = list(base_path.glob(f\"*/{mode}.csv\"))\n",
    "\n",
    "        if len(paths) == 0:\n",
    "            print(f\"No files found for mode {mode}\")\n",
    "            continue\n",
    "\n",
    "        data = (\n",
    "            pd.concat([pd.read_csv(path, index_col=0) for path in paths])\n",
    "            .sort_values(\"Experiment\")\n",
    "            .reset_index(drop=True)\n",
    "        )\n",
    "        data_vis = data[[\"fixmatch\" in string for string in data[\"Experiment\"]]]\n",
    "\n",
    "        display(Markdown(f\"## {mode}\"))\n",
    "        display(data_vis.style.background_gradient()) #.format(precision=2))"
   ]
  },
  {
   "cell_type": "code",
   "execution_count": null,
   "id": "26b0cf61",
   "metadata": {},
   "outputs": [],
   "source": []
  }
 ],
 "metadata": {
  "kernelspec": {
   "display_name": "Python 3",
   "language": "python",
   "name": "python3"
  },
  "language_info": {
   "codemirror_mode": {
    "name": "ipython",
    "version": 3
   },
   "file_extension": ".py",
   "mimetype": "text/x-python",
   "name": "python",
   "nbconvert_exporter": "python",
   "pygments_lexer": "ipython3",
   "version": "3.8.8"
  }
 },
 "nbformat": 4,
 "nbformat_minor": 5
}
